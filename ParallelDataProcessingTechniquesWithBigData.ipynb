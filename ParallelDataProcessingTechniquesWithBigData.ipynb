{
 "cells": [
  {
   "cell_type": "markdown",
   "metadata": {},
   "source": [
    "# FIT5202 Assignment 1 : Analysing eCommerce Data\n",
    "\n",
    "## Table of Contents\n",
    "* \n",
    "    * [Part 1 : Working with RDD](#part-1)\n",
    "        * [1.1 Data Preparation and Loading](#1.1)\n",
    "        * [1.2 Data Partitioning in RDD](#1.2)\n",
    "        * [1.3 Query/Analysis](#1.3)\n",
    "    * [Part 2 : Working with DataFrames](#2-dataframes)\n",
    "        * [2.1 Data Preparation and Loading](#2-dataframes)\n",
    "        * [2.2 Query/Analysis](#2.2)\n",
    "    * [Part 3 :  RDDs vs DataFrame vs Spark SQL](#part-3)"
   ]
  },
  {
   "cell_type": "markdown",
   "metadata": {},
   "source": [
    "# Part 1 : Working with RDDs <a class=\"anchor\" name=\"part-1\"></a>\n",
    "## 1.1 Working with RDD\n",
    "In this section, you will need to create RDDs from the given datasets, perform partitioning in these RDDs and use various RDD operations to answer the queries for retail analysis. \n",
    "\n",
    "### 1.1.1 Data Preparation and Loading <a class=\"anchor\" name=\"1.1\"></a>\n",
    "Write the code to create a SparkContext object using SparkSession. To create a SparkSession you first need to build a SparkConf object that contains information about your application, use Melbourne time as the session timezone. Give an appropriate name for your application and run Spark locally with as many working processors as logical cores on your machine. "
   ]
  },
  {
   "cell_type": "code",
   "execution_count": 1,
   "metadata": {},
   "outputs": [],
   "source": [
    "from pyspark import SparkConf\n",
    "from pyspark import SparkContext\n",
    "from pyspark.sql import SparkSession\n",
    "\n",
    "from pyspark.sql.types import *\n",
    "from pyspark.sql import functions as F\n",
    "\n",
    "master = \"local[*]\"\n",
    "appname = \"Assignment1\"\n",
    "timezone = \"spark.sql.session.timeZone\"\n",
    "timezone_country = \"Australia/Melbourne\"\n",
    "conf = SparkConf().setAppName(appname).setMaster(master).set(timezone, timezone_country)\n",
    "\n",
    "spark = SparkSession.builder.config(conf=conf).getOrCreate()\n",
    "sc = spark.sparkContext\n",
    "sc.setLogLevel('ERROR')"
   ]
  },
  {
   "cell_type": "markdown",
   "metadata": {},
   "source": [
    "1.1.2 Load CUPS csv files into four RDDs."
   ]
  },
  {
   "cell_type": "code",
   "execution_count": 2,
   "metadata": {},
   "outputs": [],
   "source": [
    "import csv\n",
    "from io import StringIO\n",
    "\n",
    "def parse_csv(line):\n",
    "    reader = csv.reader(StringIO(line))\n",
    "    return next(reader)  \n",
    "file_paths = [\"category.csv\", \"product.csv\", \"sales.csv\", \"users.csv\"]\n",
    "\n",
    "rdd_c = sc.textFile(file_paths[0]).map(parse_csv)\n",
    "rdd_p = sc.textFile(file_paths[1]).map(parse_csv)\n",
    "rdd_s = sc.textFile(file_paths[2]).map(parse_csv)\n",
    "rdd_u = sc.textFile(file_paths[3]).map(parse_csv)"
   ]
  },
  {
   "cell_type": "markdown",
   "metadata": {},
   "source": [
    "1.1.3 For each RDD, remove the header rows and display the total count and first 10 records. (Hint: You can use csv.reader to parse rows into RDDs.)"
   ]
  },
  {
   "cell_type": "code",
   "execution_count": 3,
   "metadata": {
    "scrolled": true
   },
   "outputs": [
    {
     "name": "stdout",
     "output_type": "stream",
     "text": [
      "Category RDD Total count: 1465\n",
      "[['2090971686529663114', 'appliances.environment.vacuum'], ['2232732116498514828', 'apparel.jeans'], ['2232732109628244704', 'apparel.shirt'], ['2232732103294845523', 'apparel.shoes.step_ins'], ['2232732086500851925', 'apparel.scarf'], ['2232732100660822557', 'country_yard.cultivator'], ['2053013558282682943', 'construction.tools.drill'], ['2053013562527318829', 'furniture.living_room.cabinet'], ['2110937143172923797', 'construction.tools.light'], ['2074462942123786261', 'kids.toys']]\n",
      "\n",
      "Product RDD Total count: 208291\n",
      "[['100168127', '2053013554096767303', '', '30.8171196068388'], ['7101887', '2232732103764607583', '', '33.6457534471799'], ['100058603', '2053013555438944659', '', '32.1982006550096'], ['100007811', '2232732112782361392', 'etro', '300.111251624047'], ['26400508', '2053013553056579841', '', '139.458912588293'], ['100215722', '2134905019189691101', '', '4.15035271832127'], ['32402016', '2232732115777094520', '', '5.90104832419485'], ['13201248', '2232732061804790604', 'brw', '400.468187201711'], ['2701879', '2053013563911439225', 'beko', '249.969115457257'], ['15300266', '2232732107698864813', '', '2.85509519214549']]\n",
      "\n",
      "Sales RDD Total count: 6848825\n",
      "[['338156802', '2020-03-27 02:03:48.000000 +00:00', '4804056', '171.56', '513119357', '0ad58441-9db9-48bd-9ee7-accf603f06e0'], ['338156808', '2020-03-27 02:03:49.000000 +00:00', '1005223', '209.53', '522277649', '2ecb2725-2c40-4acb-8ef1-05e39ea4c2cc'], ['338156913', '2020-03-27 02:04:11.000000 +00:00', '1005212', '174.25', '632847510', '43609582-1818-4885-bd72-3791f3a4ec93'], ['338156921', '2020-03-27 02:04:13.000000 +00:00', '1005236', '231.15', '626579483', 'bbf972ef-8f8d-4a33-bcbd-ac09af67ea40'], ['338156953', '2020-03-27 02:04:18.000000 +00:00', '1005212', '174.25', '633245502', '90166e0d-d7da-4997-b479-bc3a0fd724d6'], ['338156985', '2020-03-27 02:04:24.000000 +00:00', '100132156', '47.5', '541680528', '4cd111cc-8716-4720-b7e3-bc3c8ddce98f'], ['338157055', '2020-03-27 02:04:37.000000 +00:00', '3500009', '290.84', '618162129', 'd0bda424-a759-4941-b9be-5091c28009db'], ['338157122', '2020-03-27 02:04:48.000000 +00:00', '2300214', '386.08', '626601722', 'ce913646-936a-4b2e-b6bb-9f6e0d781bc5'], ['338157141', '2020-03-27 02:04:52.000000 +00:00', '100070443', '35.01', '604369152', 'fd55e2cd-dc42-4bf9-a0a1-f207f1c66e5d'], ['338157271', '2020-03-27 02:05:14.000000 +00:00', '1306659', '431.09', '616395888', 'a934f0d6-5fa6-475d-83df-528364fc8c31']]\n",
      "\n",
      "Users RDD Total count: 15639804\n",
      "[['514771925', 'MERVYN', 'Unknown', '1-5-1963', '30A LUCINDA AVENUE', '2260', 'NSW', 'male', 'WAMBERAL'], ['531947692', 'FALLON', 'Unknown', '16-10-2002', '82 CAMBERWARRA DRIVE', '6025', 'WA', 'female', 'CRAIGIE'], ['560231306', 'KALIN', 'Unknown', '19-8-2015', '74 SOLDIERS ROAD', '2281', 'NSW', 'male', 'PELICAN'], ['575248835', 'PIETTA', 'Unknown', '19-1-1962', 'UNIT 1, 1 LARK AVENUE', '5023', 'SA', 'female', 'SEATON'], ['575243330', 'SUMMAH', 'Unknown', '19-4-1973', '44 CLARENDON ROAD', '2048', 'NSW', 'female', 'STANMORE'], ['516606243', 'KEIRA', 'Unknown', '9-6-2011', '1 VIOLA CLOSE', '4868', 'QLD', 'female', 'BAYVIEW HEIGHTS'], ['545807768', 'VERITY', 'Unknown', '1-2-1980', '31-33 KING STREET', '3550', 'VIC', 'female', 'BENDIGO'], ['529118965', 'MAXWELL', 'Unknown', '16-5-2012', '15 HARWELL WAY', '6721', 'WA', 'male', 'WEDGEFIELD'], ['518625399', 'NATASHIA', 'Unknown', '5-6-1973', 'UNIT 3, 17 BOX STREET', '6530', 'WA', 'female', 'WEBBERTON'], ['518273873', 'JUSTINE', 'Unknown', '27-8-2007', 'UNIT 909, 112 GODERICH STREET', '6004', 'WA', 'male', 'EAST PERTH']]\n"
     ]
    }
   ],
   "source": [
    "def remove_header(rdd):\n",
    "    header = rdd.first()  \n",
    "    rdd_no_header = rdd.filter(lambda row: row != header)  \n",
    "    return rdd_no_header  \n",
    "\n",
    "\n",
    "print(f\"Category RDD Total count: {rdd_c.count()}\")\n",
    "rdd_c_1 = remove_header(rdd_c)\n",
    "print(rdd_c_1.take(10))\n",
    "\n",
    "print(\"\")\n",
    "\n",
    "print(f\"Product RDD Total count: {rdd_p.count()}\")\n",
    "rdd_p_1 = remove_header(rdd_p)\n",
    "print(rdd_p_1.take(10))\n",
    "\n",
    "print(\"\")\n",
    "\n",
    "print(f\"Sales RDD Total count: {rdd_s.count()}\")\n",
    "rdd_s_1 = remove_header(rdd_s)\n",
    "print(rdd_s_1.take(10))\n",
    "\n",
    "print(\"\")\n",
    "\n",
    "print(f\"Users RDD Total count: {rdd_u.count()}\")\n",
    "rdd_u_1 = remove_header(rdd_u)\n",
    "print(rdd_u_1.take(10))"
   ]
  },
  {
   "cell_type": "markdown",
   "metadata": {},
   "source": [
    "1.1.4 Drop unnecessary columns from RDDs: firstname, lastname, user_session."
   ]
  },
  {
   "cell_type": "code",
   "execution_count": 4,
   "metadata": {},
   "outputs": [],
   "source": [
    "rdd_u_1 = rdd_u_1.map(lambda row: (row[0],) + tuple(row[3:]))\n",
    "rdd_s_1 = rdd_s_1.map(lambda row: tuple(row[0:5]))"
   ]
  },
  {
   "cell_type": "markdown",
   "metadata": {},
   "source": [
    "### 1.2 Data Partitioning in RDD <a class=\"anchor\" name=\"1.2\"></a>\n",
    "1.2.1 For each RDD, print out the total number of partitions and the number of records in each partition. Answer the following questions: How many partitions do the above RDDs have? How is the data in these RDDs partitioned by default, when we do not explicitly specify any partitioning strategy? Can you explain why it will be partitioned in this number? If I only have one single core CPU in my PC, what is the default partition's number? (Hint: search the Spark source code to try to answer this question.) Write code and your explanation in Markdown cells."
   ]
  },
  {
   "cell_type": "code",
   "execution_count": 5,
   "metadata": {},
   "outputs": [
    {
     "name": "stdout",
     "output_type": "stream",
     "text": [
      "Number of partitions for RDD 1: 2\n",
      "Number of partitions for RDD 2: 2\n",
      "Number of partitions for RDD 3: 22\n",
      "Number of partitions for RDD 3: 39\n"
     ]
    }
   ],
   "source": [
    "print(\"Number of partitions for RDD 1:\", rdd_c_1.getNumPartitions())\n",
    "print(\"Number of partitions for RDD 2:\", rdd_p_1.getNumPartitions())\n",
    "print(\"Number of partitions for RDD 3:\", rdd_s_1.getNumPartitions())\n",
    "print(\"Number of partitions for RDD 3:\", rdd_u_1.getNumPartitions())"
   ]
  },
  {
   "cell_type": "markdown",
   "metadata": {},
   "source": []
  },
  {
   "cell_type": "markdown",
   "metadata": {},
   "source": [
    "1.2.2. Create a user defined function (UDF) to transform category_code to capitalized words. (e.g. apparel.shoes.ballet_shoes shall be converted to “Apparel Shots Ballet_shoes)."
   ]
  },
  {
   "cell_type": "code",
   "execution_count": 6,
   "metadata": {},
   "outputs": [],
   "source": [
    "def capitalize_category(category_code):\n",
    "    words = category_code.split('.')\n",
    "    \n",
    "    capitalized_words = [word.capitalize() for word in words]\n",
    "    capitalized_category_code = ' '.join(capitalized_words)\n",
    "    \n",
    "    return capitalized_category_code\n"
   ]
  },
  {
   "cell_type": "markdown",
   "metadata": {},
   "source": [
    "1.2.3. Join Product and Category RDDs using category_id as the joint attribute. Based on the joined RDD, create a new key value RDD, using brand as the key and all of the columns of that brand as the value. Print out the first 5 records of the key-value RDD. "
   ]
  },
  {
   "cell_type": "code",
   "execution_count": 7,
   "metadata": {},
   "outputs": [
    {
     "name": "stdout",
     "output_type": "stream",
     "text": [
      "('bravat', (['2053013562527318829', 'furniture.living_room.cabinet'], ['100052761', '2053013562527318829', 'bravat', '451.813535201164']))\n",
      "('defacto', (['2053013562527318829', 'furniture.living_room.cabinet'], ['100100620', '2053013562527318829', 'defacto', '6.74594864588976']))\n",
      "('domani-spa', (['2053013562527318829', 'furniture.living_room.cabinet'], ['56100010', '2053013562527318829', 'domani-spa', '143.837555960424']))\n",
      "('erlit', (['2053013562527318829', 'furniture.living_room.cabinet'], ['56100025', '2053013562527318829', 'erlit', '198.019521775945']))\n",
      "('erlit', (['2053013562527318829', 'furniture.living_room.cabinet'], ['56100005', '2053013562527318829', 'erlit', '140.196947019235']))\n"
     ]
    }
   ],
   "source": [
    "product_pair_rdd = rdd_p_1.map(lambda product: (product[1], product))\n",
    "category_pair_rdd = rdd_c_1.map(lambda category: (category[0], category))\n",
    "\n",
    "joined_rdd = category_pair_rdd.join(product_pair_rdd)\n",
    "\n",
    "brand_key_rdd = joined_rdd.map(lambda x: (x[1][1][2], x[1]))\n",
    "\n",
    "for record in brand_key_rdd.take(5):\n",
    "    print(record)"
   ]
  },
  {
   "cell_type": "markdown",
   "metadata": {},
   "source": [
    "### 1.3 Query/Analysis <a class=\"anchor\" name=\"1.3\"></a>\n",
    "For this part, write relevant RDD operations to answer the following queries.\n",
    "\n",
    "**1.3.1 Calculate & display the average daily sales for each year, each month. Print the results as the following format(see assignment specification).**"
   ]
  },
  {
   "cell_type": "code",
   "execution_count": 8,
   "metadata": {},
   "outputs": [
    {
     "data": {
      "text/plain": [
       "[((2020, 1), 312.61399018210153),\n",
       " ((2019, 10), 309.5615694037496),\n",
       " ((2019, 11), 300.12344387132663),\n",
       " ((2019, 12), 296.18124994837245),\n",
       " ((2020, 3), 313.560100767484),\n",
       " ((2020, 2), 317.57289535512524),\n",
       " ((2020, 4), 252.93355646035005)]"
      ]
     },
     "execution_count": 8,
     "metadata": {},
     "output_type": "execute_result"
    }
   ],
   "source": [
    "from datetime import datetime\n",
    "rdd_mapped = rdd_s_1.map(lambda x: ((datetime.strptime(x[1][:10], '%Y-%m-%d').year, datetime.strptime(x[1][:10], '%Y-%m-%d').month), (float(x[3]), 1)))\n",
    "rdd_avg_sales = rdd_mapped.reduceByKey(lambda x,y : (x[0] + y[0], x[1] + y[1])).mapValues(lambda x: x[0] / x[1])\n",
    "rdd_avg_sales.collect()"
   ]
  },
  {
   "cell_type": "markdown",
   "metadata": {},
   "source": [
    "**1.3.2 Find 10 of the brands with the highest total cost of products (i.e., sum of ave_cost’s of all products under a brand). You should display the brand and total costs in the result.**"
   ]
  },
  {
   "cell_type": "code",
   "execution_count": 9,
   "metadata": {},
   "outputs": [
    {
     "data": {
      "text/plain": [
       "[('', 6743910.966067407),\n",
       " ('apple', 741108.3512733688),\n",
       " ('hp', 634186.2326286804),\n",
       " ('samsung', 625052.3206775372),\n",
       " ('sony', 471599.4937915624),\n",
       " ('bosch', 458942.4223612587),\n",
       " ('lenovo', 446693.6790547174),\n",
       " ('sokolov', 423273.30292868044),\n",
       " ('lg', 378239.03940167325),\n",
       " ('asus', 358649.5605764668)]"
      ]
     },
     "execution_count": 9,
     "metadata": {},
     "output_type": "execute_result"
    }
   ],
   "source": [
    "rdd_brand = rdd_p_1.map(lambda x: (x[2],(float(x[3]))))\n",
    "rdd_top_brands = rdd_brand.reduceByKey(lambda x,y : (x+y)).sortBy(lambda x: x[1], ascending=False)\n",
    "rdd_top_brands.take(10)"
   ]
  },
  {
   "cell_type": "markdown",
   "metadata": {},
   "source": [
    "## Part 2. Working with DataFrames <a class=\"anchor\" name=\"2-dataframes\"></a>\n",
    "In this section, you will need to load the given datasets into PySpark DataFrames and use DataFrame functions to answer the queries.\n",
    "### 2.1 Data Preparation and Loading\n",
    "\n",
    "**2.1.1. Load CUPS into four separate dataframes. When you create your dataframes, please refer to the metadata file and think about the appropriate data type for each columns (Note: Initially, you should read date/time related column as the string type).**"
   ]
  },
  {
   "cell_type": "code",
   "execution_count": 10,
   "metadata": {},
   "outputs": [],
   "source": [
    "product_schema = StructType([\n",
    "    StructField(\"product_id\", StringType(), True),\n",
    "    StructField(\"category_id\", StringType(), True),\n",
    "    StructField(\"brand\", StringType(), True),\n",
    "    StructField(\"avg_cost\", FloatType(), True)\n",
    "])\n",
    "\n",
    "sales_schema = StructType([\n",
    "    StructField(\"id\", StringType(), True),\n",
    "    StructField(\"sales_timestamp\", StringType(), True),\n",
    "    StructField(\"product_id\", StringType(), True),\n",
    "    StructField(\"price\", FloatType(), True),\n",
    "    StructField(\"user_id\", StringType(), True),\n",
    "    StructField(\"user_session\", StringType(), True)\n",
    "])\n",
    "\n",
    "df_c = spark.read.csv(\"category.csv\",header=True)\n",
    "df_u = spark.read.csv(\"users.csv\",header=True)\n",
    "df_p = spark.read.csv(\"product.csv\",schema=product_schema, header=True)\n",
    "df_s = spark.read.csv(\"sales.csv\",schema=sales_schema,header=True)"
   ]
  },
  {
   "cell_type": "markdown",
   "metadata": {},
   "source": [
    "**2.1.2 Display the schema of the four dataframes.**"
   ]
  },
  {
   "cell_type": "code",
   "execution_count": 11,
   "metadata": {},
   "outputs": [
    {
     "name": "stdout",
     "output_type": "stream",
     "text": [
      "root\n",
      " |-- category_id: string (nullable = true)\n",
      " |-- category_code: string (nullable = true)\n",
      "\n",
      "root\n",
      " |-- user_id: string (nullable = true)\n",
      " |-- firstname: string (nullable = true)\n",
      " |-- lastname: string (nullable = true)\n",
      " |-- dob: string (nullable = true)\n",
      " |-- address: string (nullable = true)\n",
      " |-- postcode: string (nullable = true)\n",
      " |-- state: string (nullable = true)\n",
      " |-- sex: string (nullable = true)\n",
      " |-- suburb: string (nullable = true)\n",
      "\n",
      "root\n",
      " |-- product_id: string (nullable = true)\n",
      " |-- category_id: string (nullable = true)\n",
      " |-- brand: string (nullable = true)\n",
      " |-- avg_cost: float (nullable = true)\n",
      "\n",
      "root\n",
      " |-- id: string (nullable = true)\n",
      " |-- sales_timestamp: string (nullable = true)\n",
      " |-- product_id: string (nullable = true)\n",
      " |-- price: float (nullable = true)\n",
      " |-- user_id: string (nullable = true)\n",
      " |-- user_session: string (nullable = true)\n",
      "\n"
     ]
    }
   ],
   "source": [
    "df_c.printSchema()\n",
    "df_u.printSchema()\n",
    "df_p.printSchema()\n",
    "df_s.printSchema()"
   ]
  },
  {
   "cell_type": "markdown",
   "metadata": {},
   "source": [
    "### 2.2 QueryAnalysis  <a class=\"anchor\" name=\"2.2\"></a>\n",
    "Implement the following queries using dataframes. You need to be able to perform operations like filtering, sorting, joining and group by using the functions provided by the DataFrame API.   \n",
    "\n",
    "**2.2.1. Transform the 'sales_time' column in the sales dataframe to the date type; extract the hour in sales_date and create a new column “sales_hour”; after that, show the schema.**"
   ]
  },
  {
   "cell_type": "code",
   "execution_count": 12,
   "metadata": {},
   "outputs": [
    {
     "name": "stdout",
     "output_type": "stream",
     "text": [
      "root\n",
      " |-- id: string (nullable = true)\n",
      " |-- sales_timestamp: string (nullable = true)\n",
      " |-- product_id: string (nullable = true)\n",
      " |-- price: float (nullable = true)\n",
      " |-- user_id: string (nullable = true)\n",
      " |-- user_session: string (nullable = true)\n",
      " |-- sales_hour: integer (nullable = true)\n",
      "\n",
      "+---------+--------------------+----------+------+---------+--------------------+----------+\n",
      "|       id|     sales_timestamp|product_id| price|  user_id|        user_session|sales_hour|\n",
      "+---------+--------------------+----------+------+---------+--------------------+----------+\n",
      "|338156802|2020-03-27 02:03:...|   4804056|171.56|513119357|0ad58441-9db9-48b...|         2|\n",
      "|338156808|2020-03-27 02:03:...|   1005223|209.53|522277649|2ecb2725-2c40-4ac...|         2|\n",
      "|338156913|2020-03-27 02:04:...|   1005212|174.25|632847510|43609582-1818-488...|         2|\n",
      "|338156921|2020-03-27 02:04:...|   1005236|231.15|626579483|bbf972ef-8f8d-4a3...|         2|\n",
      "|338156953|2020-03-27 02:04:...|   1005212|174.25|633245502|90166e0d-d7da-499...|         2|\n",
      "|338156985|2020-03-27 02:04:...| 100132156|  47.5|541680528|4cd111cc-8716-472...|         2|\n",
      "|338157055|2020-03-27 02:04:...|   3500009|290.84|618162129|d0bda424-a759-494...|         2|\n",
      "|338157122|2020-03-27 02:04:...|   2300214|386.08|626601722|ce913646-936a-4b2...|         2|\n",
      "|338157141|2020-03-27 02:04:...| 100070443| 35.01|604369152|fd55e2cd-dc42-4bf...|         2|\n",
      "|338157271|2020-03-27 02:05:...|   1306659|431.09|616395888|a934f0d6-5fa6-475...|         2|\n",
      "|338157278|2020-03-27 02:05:...|  21700003| 69.47|623947440|8099cb6d-d0b1-425...|         2|\n",
      "|338157334|2020-03-27 02:05:...|   1002544|411.59|616784559|0049e9f6-061f-4fa...|         2|\n",
      "|338157406|2020-03-27 02:05:...| 100166102|125.87|628794011|4fe57338-ff71-419...|         2|\n",
      "|338157443|2020-03-27 02:05:...|   1004870|269.66|632847510|43609582-1818-488...|         2|\n",
      "|338157458|2020-03-27 02:05:...|   1005100|148.89|513119357|0ad58441-9db9-48b...|         2|\n",
      "|338157536|2020-03-27 02:06:...| 100078501| 642.1|561551130|7c62706a-0aeb-444...|         2|\n",
      "|338157556|2020-03-27 02:06:...|  30000055|141.55|627339630|d9d5b760-9fab-47d...|         2|\n",
      "|338157598|2020-03-27 02:06:...|  26006082|  5.49|609735374|c0c10c90-c371-4c5...|         2|\n",
      "|338157606|2020-03-27 02:06:...|   1004210|100.13|526990839|f996677c-32b7-44d...|         2|\n",
      "|338157697|2020-03-27 02:06:...|   3700466| 56.62|516382362|c5a1c30c-06c9-48d...|         2|\n",
      "+---------+--------------------+----------+------+---------+--------------------+----------+\n",
      "only showing top 20 rows\n",
      "\n"
     ]
    }
   ],
   "source": [
    "from pyspark.sql.functions import col, substring\n",
    "\n",
    "sales_df = df_s.withColumn(\"sales_hour\", substring(col(\"sales_timestamp\"), 12, 2).cast(\"integer\"))\n",
    "\n",
    "sales_df.printSchema()\n",
    "sales_df.show()"
   ]
  },
  {
   "cell_type": "markdown",
   "metadata": {},
   "source": [
    "**2.2.2. Calculate total sales for each hour, sort your result based on each hour’s sales in a descending order. Print out the sales_hour and total_sales columns.**"
   ]
  },
  {
   "cell_type": "code",
   "execution_count": 13,
   "metadata": {},
   "outputs": [
    {
     "name": "stdout",
     "output_type": "stream",
     "text": [
      "+----------+--------------+\n",
      "|sales_hour|   total_sales|\n",
      "+----------+--------------+\n",
      "|         9|154,145,024.42|\n",
      "|         8|152,052,630.81|\n",
      "|        10|148,623,811.45|\n",
      "|         7|143,124,950.29|\n",
      "|        11|137,410,186.38|\n",
      "|         6|134,751,533.53|\n",
      "|        12|126,256,798.30|\n",
      "|         5|120,775,359.74|\n",
      "|        13|118,246,078.80|\n",
      "|        14|111,314,800.22|\n",
      "|        15|103,746,572.16|\n",
      "|         4| 97,912,731.69|\n",
      "|        16| 95,785,639.21|\n",
      "|        17| 87,624,536.70|\n",
      "|        18| 73,462,844.79|\n",
      "|         3| 63,957,611.28|\n",
      "|        19| 54,797,895.43|\n",
      "|        20| 35,462,324.32|\n",
      "|         2| 27,785,862.88|\n",
      "|        21| 22,917,920.40|\n",
      "+----------+--------------+\n",
      "only showing top 20 rows\n",
      "\n"
     ]
    }
   ],
   "source": [
    "from pyspark.sql.functions import format_number, sum as _sum\n",
    "\n",
    "total_sales_per_hour = sales_df.groupBy(\"sales_hour\").sum(\"price\").withColumnRenamed(\"sum(price)\", \"total_sales\")\n",
    "\n",
    "sorted_sales = total_sales_per_hour.orderBy(col(\"total_sales\").desc())\n",
    "\n",
    "formatted_sorted_sales = sorted_sales.withColumn(\"total_sales\", format_number(\"total_sales\", 2))\n",
    "\n",
    "formatted_sorted_sales.select(\"sales_hour\", \"total_sales\").show()\n"
   ]
  },
  {
   "cell_type": "markdown",
   "metadata": {},
   "source": [
    "**2.2.3.Find 10 most profitable categories (profit can be simply defined as price - avg_cost). Print out the category name and total profit. Please print the category name in capitalized word format(hint: you can reuse the UDF defined in part 1.)**"
   ]
  },
  {
   "cell_type": "code",
   "execution_count": 14,
   "metadata": {},
   "outputs": [
    {
     "name": "stdout",
     "output_type": "stream",
     "text": [
      "+--------------------+------------------+\n",
      "|       category_name|      total_profit|\n",
      "+--------------------+------------------+\n",
      "|Construction tool...| 2153409.454496622|\n",
      "|Appliances person...|310458.57653808594|\n",
      "|Electronics audio...|282612.34650832415|\n",
      "|  Computers notebook|  254837.284547925|\n",
      "|Appliances kitche...|176728.95874023438|\n",
      "|Appliances kitche...|164381.11138916016|\n",
      "|Appliances kitche...|145474.34768676758|\n",
      "|  Electronics clocks|109446.41687107086|\n",
      "|Appliances kitche...|108869.96598434448|\n",
      "|              Others| 98060.09959602356|\n",
      "+--------------------+------------------+\n",
      "\n"
     ]
    }
   ],
   "source": [
    "from pyspark.sql.functions import udf\n",
    "from pyspark.sql.types import StringType\n",
    "\n",
    "capitalize_category_udf = udf(capitalize_category, StringType())\n",
    "\n",
    "df_cap = df_c.withColumn(\"category_code\", capitalize_category_udf(df_c[\"category_code\"]))\n",
    "\n",
    "df_c_p = df_cap.join(df_p, \"category_id\").drop(df_p[\"category_id\"])\n",
    "df_c_p_s = df_c_p.join(df_s, \"product_id\").drop(df_s[\"product_id\"])\n",
    "df_comb = df_c_p_s.select(\"category_id\", \"price\", \"avg_cost\").distinct()\n",
    "df_profit = df_comb.withColumn(\"profit\", col(\"price\") - col(\"avg_cost\"))\n",
    "\n",
    "profit_per_category = df_profit.groupBy(\"category_id\").agg(_sum(\"profit\").alias(\"total_profit\")).orderBy(col(\"total_profit\").desc())\n",
    "\n",
    "profit_with_names = profit_per_category.join(df_cap, \"category_id\").select(capitalize_category_udf(col(\"category_code\")).alias(\"category_name\"), \"total_profit\")\n",
    "\n",
    "top_10_profitable_categories = profit_with_names.orderBy(col(\"total_profit\").desc()).limit(10)\n",
    "\n",
    "top_10_profitable_categories.show()"
   ]
  },
  {
   "cell_type": "markdown",
   "metadata": {},
   "source": [
    "**2.2.4. Use DataFrame filters to find all transactions sold at loss (defined as price < avg_cost), calculate 10 worst loss margin in percentage. (margin is defined as (price - avg_cost)/avg_cost; if price - avg_cost > 0, it’s call a profit margin; otherwise a loss margin)**"
   ]
  },
  {
   "cell_type": "code",
   "execution_count": 15,
   "metadata": {},
   "outputs": [
    {
     "name": "stdout",
     "output_type": "stream",
     "text": [
      "+----------+-------------------+-----+---------+----------------------+\n",
      "|product_id|        category_id|price| avg_cost|loss_margin_percentage|\n",
      "+----------+-------------------+-----+---------+----------------------+\n",
      "|   2602040|2053013563970159485| 4.61| 608.7085|   -0.9924266124406903|\n",
      "|   2602040|2053013563970159485| 4.61| 608.7085|   -0.9924266124406903|\n",
      "|   2602040|2053013563970159485| 4.61| 608.7085|   -0.9924266124406903|\n",
      "|   2602040|2053013563970159485| 4.61| 608.7085|   -0.9924266124406903|\n",
      "|   2602040|2232732101835227701| 4.61|603.00494|   -0.9923549791778703|\n",
      "|   2602040|2232732101835227701| 4.61|603.00494|   -0.9923549791778703|\n",
      "| 100044809|2053013556579795419| 5.15| 625.5404|   -0.9917670795193296|\n",
      "| 100044809|2053013556579795419| 5.15| 625.5404|   -0.9917670795193296|\n",
      "| 100044809|2053013556579795419| 5.15| 625.5404|   -0.9917670795193296|\n",
      "| 100044809|2053013556579795419| 5.15| 625.5404|   -0.9917670795193296|\n",
      "+----------+-------------------+-----+---------+----------------------+\n",
      "\n"
     ]
    }
   ],
   "source": [
    "loss_transactions = df_c_p_s.filter(col(\"price\") < col(\"avg_cost\"))\n",
    "\n",
    "loss_transactions = loss_transactions.withColumn(\"loss_margin_percentage\", \n",
    "                                                  (col(\"price\") - col(\"avg_cost\")) / col(\"avg_cost\"))\n",
    "\n",
    "worst_loss_margins = loss_transactions.orderBy(\"loss_margin_percentage\").limit(10)\n",
    "\n",
    "worst_loss_margins.select(\"product_id\", \"category_id\", \"price\", \"avg_cost\", \"loss_margin_percentage\").show()"
   ]
  },
  {
   "cell_type": "markdown",
   "metadata": {},
   "source": [
    "**2.2.5. Calculate and show total sales from different states in each year.**"
   ]
  },
  {
   "cell_type": "code",
   "execution_count": 16,
   "metadata": {},
   "outputs": [
    {
     "name": "stdout",
     "output_type": "stream",
     "text": [
      "+-----+----+--------------------+\n",
      "|state|year|         total_sales|\n",
      "+-----+----+--------------------+\n",
      "|  ACT|2019| 1.324957724648434E7|\n",
      "|  ACT|2020| 1.969928251716152E7|\n",
      "|  NSW|2019|2.6271682307593238E8|\n",
      "|  NSW|2020|3.7411621793078035E8|\n",
      "|   NT|2019|  6218396.5247324705|\n",
      "|   NT|2020|   8610473.806350172|\n",
      "|   OT|2019|  230530.89956068993|\n",
      "|   OT|2020|   250503.4802596569|\n",
      "|  QLD|2019|1.7657346299141443E8|\n",
      "|  QLD|2020| 2.511463750614591E8|\n",
      "|   SA|2019| 6.359623414963168E7|\n",
      "|   SA|2020| 9.000863929057634E7|\n",
      "|  TAS|2019|  1.97766191759606E7|\n",
      "|  TAS|2020|2.8801780659148037E7|\n",
      "|  VIC|2019| 2.206895962610407E8|\n",
      "|  VIC|2020|3.1292484289279616E8|\n",
      "|   WA|2019| 8.627798122593528E7|\n",
      "|   WA|2020|1.2255988959617472E8|\n",
      "+-----+----+--------------------+\n",
      "\n"
     ]
    }
   ],
   "source": [
    "from pyspark.sql.functions import year, to_timestamp\n",
    "\n",
    "\n",
    "df_u_c = df_u.withColumnRenamed(\"user_id\", \"user_id_u\")\n",
    "\n",
    "df_u_s = df_s.join(df_u_c,df_u_c.user_id_u==df_s.user_id,how='inner')\n",
    "\n",
    "df_u_s_1 = df_u_s.withColumn(\"sales_timestamp\", to_timestamp(col(\"sales_timestamp\")))\n",
    "\n",
    "df_u_s_1 = df_u_s.withColumn(\"year\", year(col(\"sales_timestamp\")))\n",
    "\n",
    "total_sales_state_year = df_u_s_1.groupBy(\"state\", \"year\").agg(_sum(\"price\").alias(\"total_sales\"))\n",
    "\n",
    "sorted_sales = total_sales_state_year.orderBy(\"state\", \"year\")\n",
    "\n",
    "sorted_sales.select(\"state\", \"year\", \"total_sales\").show()\n"
   ]
  },
  {
   "cell_type": "markdown",
   "metadata": {},
   "source": [
    "**2.2.6. Draw a scatter plot of customer age and their total spending with MOTH. To limit the number of datapoints, you may show the top 1000 “most valuable” customers only. You may also use log scale for the XY axis.**"
   ]
  },
  {
   "cell_type": "code",
   "execution_count": 17,
   "metadata": {},
   "outputs": [
    {
     "name": "stdout",
     "output_type": "stream",
     "text": [
      "+---------+---+------------------+\n",
      "|  user_id|age|    total_spending|\n",
      "+---------+---+------------------+\n",
      "|553431815| 37| 790120.9404735565|\n",
      "|549109608| 65|   750149.97098732|\n",
      "|569333570| 68| 689273.0874171257|\n",
      "|513230794| 48| 647798.6524505615|\n",
      "|595104624| 58| 605792.7369689941|\n",
      "|513320236| 64| 567148.1005859375|\n",
      "|610871788| 42| 561013.4826507568|\n",
      "|568782581| 39| 540447.6095893383|\n",
      "|598224683| 21| 539601.6808013916|\n",
      "|538216048| 46| 523403.1292619705|\n",
      "|563599039| 76| 474648.4626598358|\n",
      "|512386086| 53| 473119.3873062134|\n",
      "|515428951| 61|447804.54937934875|\n",
      "|516010934| 16|403633.96990966797|\n",
      "|512409624| 56| 386011.6213378906|\n",
      "|518514099| 30| 368759.5581417084|\n",
      "|562104312| 28| 351876.0261974335|\n",
      "|514726585| 55| 336402.4811325073|\n",
      "|515384420| 38| 332926.2891998291|\n",
      "|534545940| 41|331185.97916412354|\n",
      "+---------+---+------------------+\n",
      "only showing top 20 rows\n",
      "\n"
     ]
    },
    {
     "data": {
      "image/png": "[encoded data removed]",
      "text/plain": [
       "<Figure size 1000x600 with 1 Axes>"
      ]
     },
     "metadata": {},
     "output_type": "display_data"
    }
   ],
   "source": [
    "from pyspark.sql.functions import to_date, collect_list\n",
    "import matplotlib.pyplot as plt\n",
    "import numpy as np\n",
    "\n",
    "\n",
    "current_year = datetime.now().year\n",
    "\n",
    "df_u_s_1 = df_u_s.withColumn(\"dob\", to_date(col(\"dob\"), \"d-M-yyyy\"))\n",
    "\n",
    "\n",
    "df_u_s_2 = df_u_s_1.withColumn(\"age\", current_year - year(col(\"dob\")))\n",
    "\n",
    "\n",
    "df_u_s_3 = df_u_s_2.select(\"user_id\", \"age\").distinct()\n",
    "\n",
    "total_spending_per_customer = df_u_s_2.groupBy(\"user_id\").agg(_sum(\"price\").alias(\"total_spending\"))\n",
    "\n",
    "\n",
    "df_joined = df_u_s_3.join(total_spending_per_customer, \"user_id\")\n",
    "\n",
    "top_customers = df_joined.orderBy(col(\"total_spending\").desc()).limit(1000)\n",
    "top_customers.show()\n",
    "\n",
    "plot_data = top_customers.select(\"age\", \"total_spending\").toPandas()\n",
    "\n",
    "# Plotting\n",
    "plt.figure(figsize=(10, 6))\n",
    "plt.scatter(plot_data['age'], plot_data['total_spending'], alpha=0.6, color='blue')\n",
    "\n",
    "plt.xlabel('Age')\n",
    "plt.ylabel('Total Spending')\n",
    "plt.title('Scatter Plot of Customer Age and Total Spending')\n",
    "\n",
    "plt.xscale('log')\n",
    "plt.yscale('log')\n",
    "\n",
    "plt.show()"
   ]
  },
  {
   "cell_type": "markdown",
   "metadata": {},
   "source": [
    "### Part 3 RDDs vs DataFrame vs Spark SQL (15%) <a class=\"anchor\" name=\"part-3\"></a>\n",
    "Implement the following queries using RDDs, DataFrames in SparkSQL separately. Log the  time taken for each query in each approach using the “%%time” built-in magic command in Jupyter Notebook and discuss the performance difference between these 3 approaches. \n"
   ]
  },
  {
   "cell_type": "markdown",
   "metadata": {},
   "source": [
    "\n"
   ]
  },
  {
   "cell_type": "markdown",
   "metadata": {},
   "source": [
    "#### Query: Find top 100 most popular products (by total sales) among user age group 20-40, group by brand, and show total sales of each brand."
   ]
  },
  {
   "cell_type": "markdown",
   "metadata": {},
   "source": [
    "#### 3.1. RDD Implementation"
   ]
  },
  {
   "cell_type": "code",
   "execution_count": 22,
   "metadata": {
    "scrolled": false
   },
   "outputs": [
    {
     "name": "stdout",
     "output_type": "stream",
     "text": [
      "apple 593698657.6400007\n",
      "samsung 255476588.96999964\n",
      " 98251532.74999997\n",
      "xiaomi 56788821.05999998\n",
      "huawei 25887929.19999993\n",
      "lg 23401199.149999987\n",
      "lucente 17959777.029999997\n",
      "sony 17511943.569999997\n",
      "acer 17056048.999999996\n",
      "oppo 16905138.950000014\n",
      "lenovo 14158153.290000012\n",
      "asus 8298681.059999996\n",
      "hp 7721289.320000001\n",
      "bosch 7247063.709999999\n",
      "artel 6085680.1400000015\n",
      "indesit 5338787.870000002\n",
      "haier 4655269.719999999\n",
      "beko 3491091.620000003\n",
      "dauscher 3444235.449999999\n",
      "philips 2746115.9999999995\n",
      "vivo 2671477.8200000017\n",
      "pulser 2493706.5799999996\n",
      "midea 2463724.5900000012\n",
      "janome 2113614.64\n",
      "tefal 1976491.170000001\n",
      "canon 1879335.0499999998\n",
      "karcher 1856564.6299999997\n",
      "thermomix 1837307.5000000005\n",
      "arg 1822162.2699999975\n",
      "tcl 1732663.9200000006\n",
      "dinastia 1701323.2400000005\n",
      "redmond 1689498.04\n",
      "dyson 1630225.330000001\n",
      "cordiant 1606842.4799999977\n",
      "sokolov 1568032.3999999994\n",
      "hansa 1458488.6200000003\n",
      "casio 1438624.5100000005\n",
      "epson 1421650.4399999995\n",
      "kivi 1298767.1799999995\n",
      "force 1258659.8599999999\n",
      "yamaha 1187044.28\n",
      "meizu 1181943.7799999998\n",
      "oneplus 1166226.2799999998\n",
      "huter 1138283.0099999998\n",
      "rowenta 1124655.9399999997\n",
      "stels 1122618.05\n",
      "garmin 1096177.74\n",
      "nokia 1088275.9400000002\n",
      "braun 1069185.4400000002\n",
      "vitek 1060963.6099999994\n",
      "delonghi 996355.7200000002\n",
      "sv 995997.6700000003\n",
      "ariston 975107.04\n",
      "atlant 964029.5599999998\n",
      "jbl 948436.7899999978\n",
      "polaris 940700.9599999997\n",
      "navien 878081.01\n",
      "panasonic 856160.5500000002\n",
      "starline 840182.41\n",
      "thomas 839197.2199999996\n",
      "kenwood 832164.6500000001\n",
      "pioneer 793680.39\n",
      "honor 791006.9199999998\n",
      "brw 779757.1000000002\n",
      "dji 770270.01\n",
      "nikon 767005.4500000001\n",
      "msi 760765.5199999994\n",
      "nokian 756696.0499999995\n",
      "bts 745307.0799999997\n",
      "electrolux 702134.0399999999\n",
      "yasin 677933.9300000002\n",
      "phoenix 656582.44\n",
      "rusgoldart 629874.6899999997\n",
      "netechnics 629410.2599999999\n",
      "lider 583887.58\n",
      "skad 570144.3099999999\n",
      "elenberg 563860.58\n",
      "gigabyte 533283.35\n",
      "dell 519256.44000000006\n",
      "omron 518423.7800000003\n",
      "microsoft 517982.3899999999\n",
      "omabelle 473856.87999999995\n",
      "kitfort 473210.7299999999\n",
      "gorenje 465588.0499999998\n",
      "gf 457413.1300000002\n",
      "element 455372.5900000001\n",
      "viatti 454750.9800000001\n",
      "respect 449842.85000000015\n",
      "candy 449768.54000000004\n",
      "umi 444695.6599999999\n",
      "triangle 441276.38999999996\n",
      "sportelite 439759.5400000001\n",
      "yokohama 438587.6699999999\n",
      "gefest 414525.5899999998\n",
      "sho-me 408638.5200000001\n",
      "almacom 404195.08\n",
      "tp-link 403215.8\n",
      "genau 402868.52999999997\n",
      "palit 397022.13000000006\n",
      "asel 383681.49000000017\n",
      "CPU times: user 333 ms, sys: 50 ms, total: 383 ms\n",
      "Wall time: 1min 20s\n"
     ]
    }
   ],
   "source": [
    "%%time\n",
    "\n",
    "def calculate_age(dob_str):\n",
    "    dob = datetime.strptime(dob_str, '%d-%m-%Y')\n",
    "    current = datetime.now()\n",
    "    age = (current.year - dob.year) - ((current.month, current.day) < (dob.month, dob.day))\n",
    "    return age if 20 <= age <= 40 else None\n",
    "\n",
    "\n",
    "rdd_product_mapped = rdd_p_1.map(lambda row: (row[0], row[2]))\n",
    "\n",
    "rdd_sales_mapped = rdd_s_1.map(lambda line: (line[2], (float(line[3]), line[4])))\n",
    "\n",
    "rdd_users_filtered = rdd_u_1.map(lambda row: (row[0], calculate_age(row[1]))).filter(lambda row: row[1] is not None)\n",
    "\n",
    "rdd_sales_product_joined = rdd_sales_mapped.join(rdd_product_mapped)\n",
    "\n",
    "\n",
    "rdd_sales_user_brand_keyed = rdd_sales_product_joined.map(lambda x: (x[1][0][1], (x[1][1], x[1][0][0])))\n",
    "\n",
    "\n",
    "rdd_sales_product_users_joined = rdd_sales_user_brand_keyed.join(rdd_users_filtered)\n",
    "\n",
    "rdd_brand_price = rdd_sales_product_users_joined.map(lambda x: (x[1][0][0], x[1][0][1]))\n",
    "\n",
    "\n",
    "rdd_result = rdd_brand_price.reduceByKey(lambda x, y: x + y)\n",
    "\n",
    "results = rdd_result.collect()\n",
    "top_100_brands_rdd = sorted(results, key=lambda x: -x[1])[:100]\n",
    "for brand, total_sales in top_100_brands_rdd:\n",
    "    print(brand, total_sales)\n"
   ]
  },
  {
   "cell_type": "markdown",
   "metadata": {},
   "source": [
    "#### 3.2. DataFrame Implementation"
   ]
  },
  {
   "cell_type": "code",
   "execution_count": 19,
   "metadata": {},
   "outputs": [
    {
     "name": "stdout",
     "output_type": "stream",
     "text": [
      "+----------+--------------------+\n",
      "|     brand|         total_sales|\n",
      "+----------+--------------------+\n",
      "|     apple|  5.93698658036619E8|\n",
      "|   samsung|2.5547658846927416E8|\n",
      "|      NULL| 9.825153245957093E7|\n",
      "|    xiaomi| 5.678882103813827E7|\n",
      "|    huawei|2.5887929145560265E7|\n",
      "|        lg|2.3401199162873507E7|\n",
      "|   lucente|  1.79597770189085E7|\n",
      "|      sony| 1.751194356247425E7|\n",
      "|      acer|1.7056048943193436E7|\n",
      "|      oppo|1.6905138894943237E7|\n",
      "|    lenovo|1.4158153274740696E7|\n",
      "|      asus|    8298681.02997303|\n",
      "|        hp|    7721289.31180954|\n",
      "|     bosch|   7247063.709105015|\n",
      "|     artel|   6085680.125947952|\n",
      "|   indesit|   5338787.866197586|\n",
      "|     haier|     4655269.7056427|\n",
      "|      beko|  3491091.6361312866|\n",
      "|  dauscher|   3444235.436990261|\n",
      "|   philips|  2746115.9831659794|\n",
      "|      vivo|  2671477.8104400635|\n",
      "|    pulser|    2493706.57346344|\n",
      "|     midea|  2463724.5845422745|\n",
      "|    janome|   2113614.632873535|\n",
      "|     tefal|  1976491.1577763557|\n",
      "|     canon|  1879335.0481834412|\n",
      "|   karcher|  1856564.6272354126|\n",
      "| thermomix|    1837307.51953125|\n",
      "|       arg|   1822162.257575512|\n",
      "|       tcl|  1732663.9158477783|\n",
      "|  dinastia|   1701323.240409851|\n",
      "|   redmond|  1689498.0390586853|\n",
      "|     dyson|  1630225.3415222168|\n",
      "|  cordiant|  1606842.4779491425|\n",
      "|   sokolov|  1568032.4007742405|\n",
      "|     hansa|  1458488.6162071228|\n",
      "|     casio|  1438624.5125608444|\n",
      "|     epson|   1421650.442835331|\n",
      "|      kivi|  1298767.1783370972|\n",
      "|     force|  1258659.8583745956|\n",
      "|    yamaha|  1187044.2730498314|\n",
      "|     meizu|  1181943.7739534378|\n",
      "|   oneplus|   1166226.279296875|\n",
      "|     huter|  1138283.0096206665|\n",
      "|   rowenta|  1124655.9477977753|\n",
      "|     stels|  1122618.0497179031|\n",
      "|    garmin|  1096177.7386016846|\n",
      "|     nokia|  1088275.9351062775|\n",
      "|     braun|  1069185.4347467422|\n",
      "|     vitek|  1060963.6072413921|\n",
      "|  delonghi|   996355.7053718567|\n",
      "|        sv|   995997.6679763794|\n",
      "|   ariston|   975107.0394363403|\n",
      "|    atlant|   964029.5608978271|\n",
      "|       jbl|   948436.7864611149|\n",
      "|   polaris|   940700.9567596912|\n",
      "|    navien|   878081.0087280273|\n",
      "| panasonic|   856160.5481507778|\n",
      "|  starline|   840182.3998641968|\n",
      "|    thomas|   839197.2207336426|\n",
      "|   kenwood|   832164.6404542923|\n",
      "|   pioneer|   793680.3910808563|\n",
      "|     honor|   791006.9147605896|\n",
      "|       brw|   779757.0990934372|\n",
      "|       dji|   770270.0101928711|\n",
      "|     nikon|   767005.4462814331|\n",
      "|       msi|   760765.5210113525|\n",
      "|    nokian|   756696.0473880768|\n",
      "|       bts|   745307.0793972015|\n",
      "|electrolux|   702134.0388813019|\n",
      "|     yasin|   677933.9251251221|\n",
      "|   phoenix|    656582.439180851|\n",
      "|rusgoldart|   629874.6912994385|\n",
      "|netechnics|   629410.2543182373|\n",
      "|     lider|    583887.575378418|\n",
      "|      skad|   570144.3121414185|\n",
      "|  elenberg|   563860.5766282082|\n",
      "|  gigabyte|   533283.3512682915|\n",
      "|      dell|   519256.4371995926|\n",
      "|     omron|  518423.77737665176|\n",
      "| microsoft|   517982.3895044327|\n",
      "|  omabelle|   473856.8783874512|\n",
      "|   kitfort|   473210.7291088104|\n",
      "|   gorenje|  465588.04928970337|\n",
      "|        gf|   457413.1259460449|\n",
      "|   element|  455372.58545589447|\n",
      "|    viatti|   454750.9768562317|\n",
      "|   respect|   449842.8452939987|\n",
      "|     candy|  449768.53651714325|\n",
      "|       umi|   444695.6618041992|\n",
      "|  triangle|   441276.3898162842|\n",
      "|sportelite|  439759.53747558594|\n",
      "|  yokohama|   438587.6694030762|\n",
      "|    gefest|   414525.5900173187|\n",
      "|    sho-me|  408638.52082824707|\n",
      "|   almacom|  404195.07961940765|\n",
      "|   tp-link|   403215.8001356125|\n",
      "|     genau|  402868.52491378784|\n",
      "|     palit|  397022.13063049316|\n",
      "|      asel|    383681.486782074|\n",
      "+----------+--------------------+\n",
      "\n",
      "CPU times: user 31.3 ms, sys: 6.27 ms, total: 37.6 ms\n",
      "Wall time: 15.4 s\n"
     ]
    }
   ],
   "source": [
    "%%time\n",
    "from pyspark.sql.functions import month, dayofmonth, datediff, current_date\n",
    "\n",
    "df_u = df_u.withColumn(\"dob\", to_date(col(\"dob\"), \"d-M-yyyy\"))\n",
    "df_u = df_u.withColumn(\"age\", (datediff(current_date(), col(\"dob\")) / 365.25).cast(\"integer\"))\n",
    "\n",
    "df_users_age_filtered = df_u.filter((col(\"age\") >= 20) & (col(\"age\") <= 40))\n",
    "\n",
    "df_joined = df_s.join(df_p, \"product_id\").join(df_users_age_filtered, \"user_id\")\n",
    "\n",
    "df_result = df_joined.groupBy(\"brand\").agg(_sum(\"price\").alias(\"total_sales\")).orderBy(col(\"total_sales\").desc()).limit(100)\n",
    "\n",
    "df_result.show(100)\n"
   ]
  },
  {
   "cell_type": "markdown",
   "metadata": {},
   "source": [
    "#### 3.3. Spark SQL Implementation"
   ]
  },
  {
   "cell_type": "code",
   "execution_count": 20,
   "metadata": {},
   "outputs": [
    {
     "name": "stdout",
     "output_type": "stream",
     "text": [
      "+----------+--------------------+\n",
      "|     brand|         total_sales|\n",
      "+----------+--------------------+\n",
      "|     apple|  5.93698658036619E8|\n",
      "|   samsung|2.5547658846927416E8|\n",
      "|      NULL| 9.825153245957093E7|\n",
      "|    xiaomi| 5.678882103813827E7|\n",
      "|    huawei|2.5887929145560265E7|\n",
      "|        lg|2.3401199162873507E7|\n",
      "|   lucente|  1.79597770189085E7|\n",
      "|      sony| 1.751194356247425E7|\n",
      "|      acer|1.7056048943193436E7|\n",
      "|      oppo|1.6905138894943237E7|\n",
      "|    lenovo|1.4158153274740696E7|\n",
      "|      asus|    8298681.02997303|\n",
      "|        hp|    7721289.31180954|\n",
      "|     bosch|   7247063.709105015|\n",
      "|     artel|   6085680.125947952|\n",
      "|   indesit|   5338787.866197586|\n",
      "|     haier|     4655269.7056427|\n",
      "|      beko|  3491091.6361312866|\n",
      "|  dauscher|   3444235.436990261|\n",
      "|   philips|  2746115.9831659794|\n",
      "|      vivo|  2671477.8104400635|\n",
      "|    pulser|    2493706.57346344|\n",
      "|     midea|  2463724.5845422745|\n",
      "|    janome|   2113614.632873535|\n",
      "|     tefal|  1976491.1577763557|\n",
      "|     canon|  1879335.0481834412|\n",
      "|   karcher|  1856564.6272354126|\n",
      "| thermomix|    1837307.51953125|\n",
      "|       arg|   1822162.257575512|\n",
      "|       tcl|  1732663.9158477783|\n",
      "|  dinastia|   1701323.240409851|\n",
      "|   redmond|  1689498.0390586853|\n",
      "|     dyson|  1630225.3415222168|\n",
      "|  cordiant|  1606842.4779491425|\n",
      "|   sokolov|  1568032.4007742405|\n",
      "|     hansa|  1458488.6162071228|\n",
      "|     casio|  1438624.5125608444|\n",
      "|     epson|   1421650.442835331|\n",
      "|      kivi|  1298767.1783370972|\n",
      "|     force|  1258659.8583745956|\n",
      "|    yamaha|  1187044.2730498314|\n",
      "|     meizu|  1181943.7739534378|\n",
      "|   oneplus|   1166226.279296875|\n",
      "|     huter|  1138283.0096206665|\n",
      "|   rowenta|  1124655.9477977753|\n",
      "|     stels|  1122618.0497179031|\n",
      "|    garmin|  1096177.7386016846|\n",
      "|     nokia|  1088275.9351062775|\n",
      "|     braun|  1069185.4347467422|\n",
      "|     vitek|  1060963.6072413921|\n",
      "|  delonghi|   996355.7053718567|\n",
      "|        sv|   995997.6679763794|\n",
      "|   ariston|   975107.0394363403|\n",
      "|    atlant|   964029.5608978271|\n",
      "|       jbl|   948436.7864611149|\n",
      "|   polaris|   940700.9567596912|\n",
      "|    navien|   878081.0087280273|\n",
      "| panasonic|   856160.5481507778|\n",
      "|  starline|   840182.3998641968|\n",
      "|    thomas|   839197.2207336426|\n",
      "|   kenwood|   832164.6404542923|\n",
      "|   pioneer|   793680.3910808563|\n",
      "|     honor|   791006.9147605896|\n",
      "|       brw|   779757.0990934372|\n",
      "|       dji|   770270.0101928711|\n",
      "|     nikon|   767005.4462814331|\n",
      "|       msi|   760765.5210113525|\n",
      "|    nokian|   756696.0473880768|\n",
      "|       bts|   745307.0793972015|\n",
      "|electrolux|   702134.0388813019|\n",
      "|     yasin|   677933.9251251221|\n",
      "|   phoenix|    656582.439180851|\n",
      "|rusgoldart|   629874.6912994385|\n",
      "|netechnics|   629410.2543182373|\n",
      "|     lider|    583887.575378418|\n",
      "|      skad|   570144.3121414185|\n",
      "|  elenberg|   563860.5766282082|\n",
      "|  gigabyte|   533283.3512682915|\n",
      "|      dell|   519256.4371995926|\n",
      "|     omron|  518423.77737665176|\n",
      "| microsoft|   517982.3895044327|\n",
      "|  omabelle|   473856.8783874512|\n",
      "|   kitfort|   473210.7291088104|\n",
      "|   gorenje|  465588.04928970337|\n",
      "|        gf|   457413.1259460449|\n",
      "|   element|  455372.58545589447|\n",
      "|    viatti|   454750.9768562317|\n",
      "|   respect|   449842.8452939987|\n",
      "|     candy|  449768.53651714325|\n",
      "|       umi|   444695.6618041992|\n",
      "|  triangle|   441276.3898162842|\n",
      "|sportelite|  439759.53747558594|\n",
      "|  yokohama|   438587.6694030762|\n",
      "|    gefest|   414525.5900173187|\n",
      "|    sho-me|  408638.52082824707|\n",
      "|   almacom|  404195.07961940765|\n",
      "|   tp-link|   403215.8001356125|\n",
      "|     genau|  402868.52491378784|\n",
      "|     palit|  397022.13063049316|\n",
      "|      asel|    383681.486782074|\n",
      "+----------+--------------------+\n",
      "\n",
      "CPU times: user 29.5 ms, sys: 9.95 ms, total: 39.5 ms\n",
      "Wall time: 13.6 s\n"
     ]
    }
   ],
   "source": [
    "%%time\n",
    "\n",
    "df_u = df_u.withColumn(\"dob\", to_date(col(\"dob\"), \"d-M-yyyy\"))\n",
    "df_u = df_u.withColumn(\"age\", (datediff(current_date(), col(\"dob\")) / 365.25).cast(\"integer\"))\n",
    "\n",
    "df_u.createOrReplaceTempView(\"users\")\n",
    "df_s.createOrReplaceTempView(\"sales\")\n",
    "df_p.createOrReplaceTempView(\"product\")\n",
    "\n",
    "sql_query = \"\"\"\n",
    "SELECT p.brand, SUM(s.price) as total_sales\n",
    "FROM sales s\n",
    "JOIN product p ON s.product_id = p.product_id\n",
    "JOIN users u ON s.user_id = u.user_id\n",
    "WHERE u.age BETWEEN 20 AND 40\n",
    "GROUP BY p.brand\n",
    "ORDER BY total_sales DESC\n",
    "LIMIT 100\n",
    "\"\"\"\n",
    "\n",
    "df_sql_result = spark.sql(sql_query)\n",
    "df_sql_result.show(100)"
   ]
  },
  {
   "cell_type": "markdown",
   "metadata": {},
   "source": [
    "### 3.4 Observe the query execution time among RDD, DataFrame, SparkSQL, which is the fastest and why? (Maximum 500 words.)"
   ]
  },
  {
   "cell_type": "markdown",
   "metadata": {},
   "source": []
  },
  {
   "cell_type": "markdown",
   "metadata": {},
   "source": [
    "Based on the execution times , the order of speed is SparkSQL(fastest), DataFrame, and then RDD(slowest). \n",
    "Here is the reason:\n",
    "\n",
    "SparkSQL (13.6s): \n",
    "SparkSQL is the fastest for most of the time, because it use something call \"Catalyst optimizer\", which is a very efficient query optimizer. It converts queries into an execution plan. \n",
    "This plan will be optimized for efficiency based on some factors like data distribution, partitioning, and available resources. It also takes advantage on the Tungsten's efficient memory & code generation enhancements, which will also help on improving the performance.\n",
    "\n",
    "DataFrame (15.4s): \n",
    "The DataFrame API in Spark also benefits from the Catalyst optimizer and Tungsten for efficient execution. But when writing queries in the DataFrame API, there could be a bit of overhead compared to SparkSQL due to the method calls and lambda functions used, which is why it is slightly longer to execution compared to SparkSQL.\n",
    "\n",
    "RDD (1min 20s): \n",
    "RDDs are the lowest level API in Spark and it allows user to have the most control on the data and transformations. But they are lacking the optimization layers present in SparkSQL and DataFrames, like the Catalyst optimizer and Tungsten. RDD operations are more Java based and it involves more overhead especially in serialization and deserialization. They are also lacking the smart optimizations for joins, filters, and aggregations that the higher-level APIs provide. As a result, operations with RDDs will be slower, especially for complex queries on larger datasets.\n",
    "\n",
    "In summary, SparkSQL's speed advantage from its advanced optimization features and the ability to translate SQL queries into highly optimized execution plans. DataFrames are also at the fast side, it benefits from the same optimization engine, while RDDs are slower because of lacking on these optimizations and higher operational overhead."
   ]
  },
  {
   "cell_type": "markdown",
   "metadata": {},
   "source": [
    "#### Summary\n",
    "\n",
    "The time might differ when running on different machines. Overall, the DataFrame and SQL queries run ...... compared with RDD.\n"
   ]
  },
  {
   "cell_type": "markdown",
   "metadata": {},
   "source": [
    "### Some ideas on the comparison\n",
    "\n",
    "Armbrust, M., Huai, Y., Liang, C., Xin, R., & Zaharia, M. (2015). Deep Dive into Spark SQL’s Catalyst Optimizer. Retrieved September 30, 2017, from https://databricks.com/blog/2015/04/13/deep-dive-into-spark-sqls-catalyst-optimizer.html\n",
    "\n",
    "Damji, J. (2016). A Tale of Three Apache Spark APIs: RDDs, DataFrames, and Datasets. Retrieved September 28, 2017, from https://databricks.com/blog/2016/07/14/a-tale-of-three-apache-spark-apis-rdds-dataframes-and-datasets.html\n",
    "\n",
    "Data Flair (2017a). Apache Spark RDD vs DataFrame vs DataSet. Retrieved September 28, 2017, from http://data-flair.training/blogs/apache-spark-rdd-vs-dataframe-vs-dataset\n",
    "\n",
    "Prakash, C. (2016). Apache Spark: RDD vs Dataframe vs Dataset. Retrieved September 28, 2017, from http://why-not-learn-something.blogspot.com.au/2016/07/apache-spark-rdd-vs-dataframe-vs-dataset.html\n",
    "\n",
    "Xin, R., & Rosen, J. (2015). Project Tungsten: Bringing Apache Spark Closer to Bare Metal. Retrieved September 30, 2017, from https://databricks.com/blog/2015/04/28/project-tungsten-bringing-spark-closer-to-bare-metal.html"
   ]
  }
 ],
 "metadata": {
  "kernelspec": {
   "display_name": "Python 3 (ipykernel)",
   "language": "python",
   "name": "python3"
  },
  "language_info": {
   "codemirror_mode": {
    "name": "ipython",
    "version": 3
   },
   "file_extension": ".py",
   "mimetype": "text/x-python",
   "name": "python",
   "nbconvert_exporter": "python",
   "pygments_lexer": "ipython3",
   "version": "3.10.13"
  }
 },
 "nbformat": 4,
 "nbformat_minor": 4
}
