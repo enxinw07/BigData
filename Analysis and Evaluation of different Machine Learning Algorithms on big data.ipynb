{
 "cells": [
  {
   "cell_type": "markdown",
   "metadata": {},
   "source": [
    "# FIT5202 Assignment 2A : Building models to predict future eCommerce sales\n",
    "\n",
    "## Table of Contents\n",
    "*  \n",
    "    * [Part 1 : Data Loading, Transformation and Exploration](#part-1)\n",
    "    * [Part 2 : Feature extraction and ML training](#part-2)\n",
    "    * [Part 3 : Data Ethics, Privacy, and Security](#part-4)\n",
    " \n",
    "Please add code/markdown cells as you need."
   ]
  },
  {
   "cell_type": "markdown",
   "metadata": {},
   "source": [
    "# Part 1: Data Loading, Transformation and Exploration <a class=\"anchor\" name=\"part-1\"></a>\n",
    "## 1.1 Data Loading\n",
    "In this section, you will need to load the given datasets into PySpark DataFrames and use DataFrame functions to process the data. Usage of Spark SQL is discouraged, and your can only use pandas to format results. For plotting, different visualisation packages can be used, but please ensure that you have included instructions to install the additional packages and the installation will be successful in the provided docker container(in case your marker needs to clear the notebook and rerun it).\n",
    "\n",
    "### 1.1.1 Data Loading <a class=\"anchor\" name=\"1.1\"></a>\n",
    "Write the code to create a SparkSession. For creating the SparkSession, you need to use a SparkConf object to configure the Spark app with a proper application name, to ensure the maximum partition size not exceed 20MB, and to run locally with all CPU cores on your machine (note: if you have insufficient RAM, reducing the number of cores is also acceptable.)"
   ]
  },
  {
   "cell_type": "code",
   "execution_count": 1,
   "metadata": {},
   "outputs": [],
   "source": [
    "from pyspark.sql import SparkSession\n",
    "from pyspark import SparkConf\n",
    "\n",
    "appname = \"Assignment2\"\n",
    "master = \"local[*]\"\n",
    "maxParB = \"spark.sql.files.maxPartitionBytes\"\n",
    "conf = SparkConf().setAppName(appname).set(maxParB, str(20 * 1024 * 1024)).setMaster(master)  \n",
    "\n",
    "spark = SparkSession.builder.config(conf=conf).getOrCreate()"
   ]
  },
  {
   "cell_type": "markdown",
   "metadata": {},
   "source": [
    "1.1.2 Write code to define the schemas for category, customer, product, clickstream and transaction datasets, following the data types suggested in the metadata file."
   ]
  },
  {
   "cell_type": "code",
   "execution_count": 2,
   "metadata": {},
   "outputs": [],
   "source": [
    "from pyspark.sql.types import StructType, StructField, IntegerType, StringType, FloatType, DateType, TimestampType\n",
    "\n",
    "# Schema for the Customer dataset\n",
    "customer_schema = StructType([\n",
    "    StructField(\"#\", IntegerType(), True),\n",
    "    StructField(\"customer_id\", IntegerType(), True),\n",
    "    StructField(\"first_name\", StringType(), True),\n",
    "    StructField(\"last_name\", StringType(), True),\n",
    "    StructField(\"username\", StringType(), True),\n",
    "    StructField(\"email\", StringType(), True),\n",
    "    StructField(\"gender\", StringType(), True),\n",
    "    StructField(\"birthdate\", DateType(), True),\n",
    "    StructField(\"device_type\", StringType(), True),\n",
    "    StructField(\"device_id\", StringType(), True),\n",
    "    StructField(\"device_version\", StringType(), True),\n",
    "    StructField(\"home_location_lat\", FloatType(), True),\n",
    "    StructField(\"home_location_long\", FloatType(), True),\n",
    "    StructField(\"home_location\", StringType(), True),\n",
    "    StructField(\"home_country\", StringType(), True),\n",
    "    StructField(\"first_join_date\", StringType(), True)\n",
    "])\n",
    "\n",
    "# Schema for the Category dataset\n",
    "category_schema = StructType([\n",
    "    StructField(\"#\", IntegerType(), True),\n",
    "    StructField(\"category_id\", IntegerType(), True),\n",
    "    StructField(\"cat_level1\", StringType(), True),\n",
    "    StructField(\"cat_level2\", StringType(), True),\n",
    "    StructField(\"cat_level3\", StringType(), True)\n",
    "])\n",
    "\n",
    "# Schema for the Click Stream dataset\n",
    "click_stream_schema = StructType([\n",
    "    StructField(\"#\", IntegerType(), True),\n",
    "    StructField(\"session_id\", StringType(), True),\n",
    "    StructField(\"event_name\", StringType(), True),\n",
    "    StructField(\"event_time\", TimestampType(), True),\n",
    "    StructField(\"event_id\", StringType(), True),\n",
    "    StructField(\"traffic_source\", StringType(), True),\n",
    "    StructField(\"event_metadata\", StringType(), True)\n",
    "])\n",
    "\n",
    "# Schema for the Product dataset\n",
    "product_schema = StructType([\n",
    "    StructField(\"#\", IntegerType(), True),\n",
    "    StructField(\"id\", IntegerType(), True),\n",
    "    StructField(\"gender\", StringType(), True),\n",
    "    StructField(\"baseColour\", StringType(), True),\n",
    "    StructField(\"season\", StringType(), True),\n",
    "    StructField(\"year\", StringType(), True),\n",
    "    StructField(\"usage\", StringType(), True),\n",
    "    StructField(\"productDisplayName\", StringType(), True),\n",
    "    StructField(\"category_id\", IntegerType(), True)\n",
    "])\n",
    "\n",
    "# Schema for the Transaction dataset\n",
    "transaction_schema = StructType([\n",
    "    StructField(\"#\", IntegerType(), True),\n",
    "    StructField(\"created_at\", TimestampType(), True),\n",
    "    StructField(\"customer_id\", IntegerType(), True),\n",
    "    StructField(\"booking_id\", StringType(), True),\n",
    "    StructField(\"session_id\", StringType(), True),\n",
    "    StructField(\"product_metadata\", StringType(), True),\n",
    "    StructField(\"payment_method\", StringType(), True),\n",
    "    StructField(\"payment_status\", StringType(), True),\n",
    "    StructField(\"promo_amount\", FloatType(), True),\n",
    "    StructField(\"promo_code\", StringType(), True),\n",
    "    StructField(\"shipment_fee\", FloatType(), True),\n",
    "    StructField(\"shipment_date_limit\", DateType(), True),\n",
    "    StructField(\"shipment_location_lat\", StringType(), True),\n",
    "    StructField(\"shipment_location_long\", StringType(), True),\n",
    "    StructField(\"total_amount\", FloatType(), True)\n",
    "])\n"
   ]
  },
  {
   "cell_type": "markdown",
   "metadata": {},
   "source": [
    "1.1.3 Using predefined schema, write code to load the csv files into separate dataframes. Print the schemas of all dataframes."
   ]
  },
  {
   "cell_type": "code",
   "execution_count": 18,
   "metadata": {},
   "outputs": [
    {
     "name": "stdout",
     "output_type": "stream",
     "text": [
      "Customer DataFrame Schema:\n",
      "root\n",
      " |-- #: integer (nullable = true)\n",
      " |-- customer_id: integer (nullable = true)\n",
      " |-- first_name: string (nullable = true)\n",
      " |-- last_name: string (nullable = true)\n",
      " |-- username: string (nullable = true)\n",
      " |-- email: string (nullable = true)\n",
      " |-- gender: string (nullable = true)\n",
      " |-- birthdate: date (nullable = true)\n",
      " |-- device_type: string (nullable = true)\n",
      " |-- device_id: string (nullable = true)\n",
      " |-- device_version: string (nullable = true)\n",
      " |-- home_location_lat: float (nullable = true)\n",
      " |-- home_location_long: float (nullable = true)\n",
      " |-- home_location: string (nullable = true)\n",
      " |-- home_country: string (nullable = true)\n",
      " |-- first_join_date: string (nullable = true)\n",
      "\n",
      "Category DataFrame Schema:\n",
      "root\n",
      " |-- #: integer (nullable = true)\n",
      " |-- category_id: integer (nullable = true)\n",
      " |-- cat_level1: string (nullable = true)\n",
      " |-- cat_level2: string (nullable = true)\n",
      " |-- cat_level3: string (nullable = true)\n",
      "\n",
      "Click Stream DataFrame Schema:\n",
      "root\n",
      " |-- #: integer (nullable = true)\n",
      " |-- session_id: string (nullable = true)\n",
      " |-- event_name: string (nullable = true)\n",
      " |-- event_time: timestamp (nullable = true)\n",
      " |-- event_id: string (nullable = true)\n",
      " |-- traffic_source: string (nullable = true)\n",
      " |-- event_metadata: string (nullable = true)\n",
      "\n",
      "Customer Session DataFrame Schema:\n",
      "root\n",
      " |-- #: string (nullable = true)\n",
      " |-- session_id: string (nullable = true)\n",
      " |-- customer_id: string (nullable = true)\n",
      "\n",
      "Product DataFrame Schema:\n",
      "root\n",
      " |-- #: integer (nullable = true)\n",
      " |-- id: integer (nullable = true)\n",
      " |-- gender: string (nullable = true)\n",
      " |-- baseColour: string (nullable = true)\n",
      " |-- season: string (nullable = true)\n",
      " |-- year: string (nullable = true)\n",
      " |-- usage: string (nullable = true)\n",
      " |-- productDisplayName: string (nullable = true)\n",
      " |-- category_id: integer (nullable = true)\n",
      "\n",
      "Transaction DataFrame Schema:\n",
      "root\n",
      " |-- #: integer (nullable = true)\n",
      " |-- created_at: timestamp (nullable = true)\n",
      " |-- customer_id: integer (nullable = true)\n",
      " |-- booking_id: string (nullable = true)\n",
      " |-- session_id: string (nullable = true)\n",
      " |-- product_metadata: string (nullable = true)\n",
      " |-- payment_method: string (nullable = true)\n",
      " |-- payment_status: string (nullable = true)\n",
      " |-- promo_amount: float (nullable = true)\n",
      " |-- promo_code: string (nullable = true)\n",
      " |-- shipment_fee: float (nullable = true)\n",
      " |-- shipment_date_limit: date (nullable = true)\n",
      " |-- shipment_location_lat: string (nullable = true)\n",
      " |-- shipment_location_long: string (nullable = true)\n",
      " |-- total_amount: float (nullable = true)\n",
      "\n"
     ]
    }
   ],
   "source": [
    "path_customer = \"dataset/customer.csv\"\n",
    "path_category = \"dataset/category.csv\"\n",
    "path_click_stream = \"dataset/click_stream.csv\"\n",
    "path_customer_session = \"dataset/customer_session.csv\"\n",
    "path_product = \"dataset/product.csv\"\n",
    "path_transaction = \"dataset/transactions.csv\"\n",
    "\n",
    "df_customer = spark.read.csv(path_customer, schema=customer_schema, header=True)\n",
    "df_category = spark.read.csv(path_category, schema=category_schema, header=True)\n",
    "df_click_stream = spark.read.csv(path_click_stream, schema=click_stream_schema, header=True)\n",
    "df_customer_session = spark.read.csv(path_customer_session, header=True)\n",
    "df_product = spark.read.csv(path_product, schema=product_schema, header=True)\n",
    "df_transaction = spark.read.csv(path_transaction, schema=transaction_schema, header=True)\n",
    "\n",
    "print(\"Customer DataFrame Schema:\")\n",
    "df_customer.printSchema()\n",
    "\n",
    "print(\"Category DataFrame Schema:\")\n",
    "df_category.printSchema()\n",
    "\n",
    "print(\"Click Stream DataFrame Schema:\")\n",
    "df_click_stream.printSchema()\n",
    "\n",
    "print(\"Customer Session DataFrame Schema:\")\n",
    "df_customer_session.printSchema()\n",
    "\n",
    "print(\"Product DataFrame Schema:\")\n",
    "df_product.printSchema()\n",
    "\n",
    "print(\"Transaction DataFrame Schema:\")\n",
    "df_transaction.printSchema()"
   ]
  },
  {
   "cell_type": "markdown",
   "metadata": {},
   "source": [
    "### 1.2 Data Transformation to Create Features <a class=\"anchor\" name=\"1.2\"></a>\n",
    "In the clickstream dataset, there are 9 types of events/actions: \n",
    "\n",
    "VIEW_PROMO, SCROLL, ADD_PROMO, VIEW_ITEM, CLICK, PURCHASE, ADD_TO_CART, HOMEPAGE, SEARCH  \n",
    "\n",
    "We categorize them into 3 different categories:  \n",
    "Category 1(high value actions - highly likely to purchase): PURCHASE, ADD_PROMO, ADD_TO_CART  \n",
    "Category 2(medium value actions - likely to purchase): VIEW_PROMO, VIEW_ITEM, SEARCH  \n",
    "Category 3(low value actions - just browsing):  SCROLL, HOMEPAGE, CLICK  \n",
    "\n",
    "Write code to perform the following consecutive tasks (5% each) based on the clickstream dataframe and create a new feature dataframe. "
   ]
  },
  {
   "cell_type": "markdown",
   "metadata": {},
   "source": [
    "1.2.1 For each unique session_id, create 3 columns (with names: num_cat_highvalue, num_cat_midvalue, num_cat_lowvalue) to store the number of actions for the three categories, respectively. Fill NULL values in these columns with 0, when there are no events of certain category. Count and show the number of actions in each category."
   ]
  },
  {
   "cell_type": "code",
   "execution_count": 20,
   "metadata": {},
   "outputs": [
    {
     "name": "stdout",
     "output_type": "stream",
     "text": [
      "+------------------------------------+-----------------+----------------+----------------+\n",
      "|session_id                          |num_cat_highvalue|num_cat_lowvalue|num_cat_midvalue|\n",
      "+------------------------------------+-----------------+----------------+----------------+\n",
      "|00150d6f-02e1-45e8-aa67-f7ea32533326|2                |10              |7               |\n",
      "|0020d8a4-effe-40a6-be7a-561b07e2e70b|4                |3               |1               |\n",
      "|0040247a-bc2a-4125-807f-421ad9c5928e|2                |3               |1               |\n",
      "|00683068-ed46-4393-b912-99fa051f2332|4                |11              |4               |\n",
      "|00c94897-1d95-4928-8741-bd33665bf984|4                |2               |0               |\n",
      "|01191df2-8a10-4f18-a8c8-a934afbf6dad|9                |12              |3               |\n",
      "|01532321-42ef-495f-b25a-47333d1865ad|3                |2               |3               |\n",
      "|01644963-de4e-40bc-a66a-f1ae3a56d971|2                |22              |5               |\n",
      "|01d4d513-1e23-42ff-bb59-00f6c5ec854a|3                |2               |1               |\n",
      "|01da0ba3-08b0-445e-aff9-8339915458ab|2                |7               |5               |\n",
      "|0254897c-c65f-4198-afe8-738e4ea68337|2                |9               |3               |\n",
      "|02be17ad-d877-47e0-9e1d-79b572490f1c|4                |10              |13              |\n",
      "|02e44121-a6aa-45ce-badd-957113e9eef6|5                |6               |3               |\n",
      "|02efe352-e7a8-4efe-9ef8-60dc3a188ca5|4                |5               |0               |\n",
      "|033c81b4-a011-4b88-8e06-500bb325e73f|6                |5               |1               |\n",
      "|0364c2b6-ba39-49d4-8265-b76eb6b154a4|4                |4               |3               |\n",
      "|0379ce66-542b-4d70-9ddd-488c6b5b0bac|2                |2               |0               |\n",
      "|039f3bb1-5b7c-47ee-b5a7-e1d8c0dabd84|0                |16              |7               |\n",
      "|03ed9c5e-2fa0-458c-bd0a-392a721f4b12|3                |3               |1               |\n",
      "|04161826-3562-4fca-82ad-f614c0f62b69|3                |4               |2               |\n",
      "+------------------------------------+-----------------+----------------+----------------+\n",
      "only showing top 20 rows\n",
      "\n",
      "+------------------------+--------------------------+-----------------------+\n",
      "|Total High Value Actions|Total Medium Value Actions|Total Low Value Actions|\n",
      "+------------------------+--------------------------+-----------------------+\n",
      "|                 3116274|                   3068593|                6648735|\n",
      "+------------------------+--------------------------+-----------------------+\n",
      "\n"
     ]
    }
   ],
   "source": [
    "from pyspark.sql import functions as F\n",
    "\n",
    "# Define the categories based on event types\n",
    "high_value_actions = ['PURCHASE', 'ADD_PROMO', 'ADD_TO_CART']\n",
    "medium_value_actions = ['VIEW_PROMO', 'VIEW_ITEM', 'SEARCH']\n",
    "low_value_actions = ['SCROLL', 'HOMEPAGE', 'CLICK']\n",
    "\n",
    "# Categorize events based on their type\n",
    "df_categorized = df_click_stream.withColumn(\n",
    "    \"category\",\n",
    "    F.when(F.col(\"event_name\").isin(high_value_actions), \"num_cat_highvalue\")\n",
    "    .when(F.col(\"event_name\").isin(medium_value_actions), \"num_cat_midvalue\")\n",
    "    .otherwise(\"num_cat_lowvalue\")\n",
    ")\n",
    "\n",
    "df_category_counts = df_categorized.groupBy(\"session_id\").pivot(\"category\").count()\n",
    "\n",
    "expected_columns = [\"num_cat_highvalue\", \"num_cat_midvalue\", \"num_cat_lowvalue\"]\n",
    "for column in expected_columns:\n",
    "    if column not in df_category_counts.columns:\n",
    "        df_category_counts = df_category_counts.withColumn(column, F.lit(0))\n",
    "        \n",
    "feature_df = df_category_counts.na.fill({\n",
    "    \"num_cat_highvalue\": 0,\n",
    "    \"num_cat_midvalue\": 0,\n",
    "    \"num_cat_lowvalue\": 0\n",
    "})\n",
    "\n",
    "feature_df.show(truncate=False)\n",
    "\n",
    "total_counts = df_category_counts.agg(\n",
    "    F.sum(\"num_cat_highvalue\").alias(\"Total High Value Actions\"),\n",
    "    F.sum(\"num_cat_midvalue\").alias(\"Total Medium Value Actions\"),\n",
    "    F.sum(\"num_cat_lowvalue\").alias(\"Total Low Value Actions\")\n",
    ")\n",
    "\n",
    "total_counts.show()"
   ]
  },
  {
   "cell_type": "markdown",
   "metadata": {},
   "source": [
    "1.2.2 For each unique session_id, create a new column “is_promotion” with value of 1 or 0 and add to feature_df. If there are “ADD_PROMO” actions in a session, set it to 1, otherwise 0."
   ]
  },
  {
   "cell_type": "code",
   "execution_count": 21,
   "metadata": {},
   "outputs": [],
   "source": [
    "from pyspark.sql import functions as F\n",
    "\n",
    "df_promotion = df_click_stream.withColumn(\n",
    "    \"is_promotion\",\n",
    "    F.when(F.col(\"event_name\") == \"ADD_PROMO\", 1).otherwise(0)\n",
    ")\n",
    "\n",
    "df_promotion_summary = df_promotion.groupBy(\"session_id\").agg(\n",
    "    F.max(\"is_promotion\").alias(\"is_promotion\")\n",
    ")\n",
    "\n",
    "feature_df = feature_df.join(df_promotion_summary, on=\"session_id\", how=\"left_outer\")\n",
    "\n",
    "feature_df = feature_df.na.fill({\"is_promotion\": 0})\n"
   ]
  },
  {
   "cell_type": "markdown",
   "metadata": {},
   "source": [
    "1.2.3 For each unique session_id, based on column \"event_time\", extract the season. (note: The dataset is from Indonesia, Spring: Mar-May, Summer: Jun-Aug, Autumn: Sep-Nov, Winter: Dec-Feb)"
   ]
  },
  {
   "cell_type": "code",
   "execution_count": 22,
   "metadata": {},
   "outputs": [],
   "source": [
    "from pyspark.sql import functions as F\n",
    "from pyspark.sql.types import StringType\n",
    "\n",
    "def get_season(month):\n",
    "    if 3 <= month <= 5:\n",
    "        return \"Spring\"\n",
    "    elif 6 <= month <= 8:\n",
    "        return \"Summer\"\n",
    "    elif 9 <= month <= 11:\n",
    "        return \"Autumn\"\n",
    "    elif month in [12, 1, 2]:\n",
    "        return \"Winter\"\n",
    "\n",
    "season_udf = F.udf(get_season, StringType())\n",
    "\n",
    "df_click_stream = df_click_stream.withColumn(\n",
    "    \"month\", F.month(\"event_time\")\n",
    ").withColumn(\n",
    "    \"season\", season_udf(\"month\")\n",
    ")\n",
    "\n",
    "df_season = df_click_stream.groupBy(\"session_id\").agg(\n",
    "    F.max(\"season\").alias(\"season\")  \n",
    ")"
   ]
  },
  {
   "cell_type": "markdown",
   "metadata": {},
   "source": [
    "1.2.4 Join tables to find customer information and add these columns to feature_df: gender, age, device type, home_location, first join year. (Note: Use integer type for age and first join year)"
   ]
  },
  {
   "cell_type": "code",
   "execution_count": 23,
   "metadata": {},
   "outputs": [],
   "source": [
    "from datetime import datetime\n",
    "from pyspark.sql.functions import month, dayofmonth, datediff, current_date, to_date, col\n",
    "from pyspark.sql.types import IntegerType\n",
    "\n",
    "df_customer = df_customer.withColumn(\"first_join_date\", F.to_date(F.col(\"first_join_date\")))\n",
    "df_customer = df_customer.withColumn(\"first_join_year\", F.year(F.col(\"first_join_date\")).cast(\"integer\"))\n",
    "\n",
    "current_year = datetime.now().year\n",
    "current_date = datetime.now()\n",
    "df_customer = df_customer.withColumn(\"birthdate\", F.to_date(col(\"birthdate\"), \"dd-MM-yyyy\"))\n",
    "df_customer = df_customer.withColumn(\"age\", (F.datediff(F.current_date(), col(\"birthdate\")) / 365.25).cast(\"integer\"))\n",
    "\n",
    "df_customer_after = df_customer.select(\n",
    "    \"customer_id\", \"gender\", \"age\", \"device_type\", \"home_location\", \"first_join_year\"\n",
    ")\n",
    "\n",
    "df_customer_after_01 = df_customer_session.join(df_customer_after, \"customer_id\")\n",
    "feature_df = feature_df.join(df_customer_after_01, \"session_id\")\n"
   ]
  },
  {
   "cell_type": "markdown",
   "metadata": {},
   "source": [
    "1.2.5 Join tables to find out if the customer made purchase or not in each unique session (based on the column “payment_status” in the transaction.csv), and add it to feature_df as 1 (if payment_status = “Success”) or 0 (if payment_status = “Fail”). This column is used as class label for classification model training and testing."
   ]
  },
  {
   "cell_type": "code",
   "execution_count": 24,
   "metadata": {},
   "outputs": [],
   "source": [
    "df_transaction = df_transaction.withColumn(\"purchase\", F.when(F.col(\"payment_status\") == \"Success\", 1).otherwise(0))\n",
    "\n",
    "df_transaction = df_transaction.select(\"session_id\", \"customer_id\", \"purchase\")\n",
    "\n",
    "feature_df = feature_df.join(df_transaction, on=[\"session_id\", \"customer_id\"], how=\"left\")\n",
    "\n",
    "feature_df = feature_df.na.fill({\"purchase\": 0})\n",
    "\n",
    "feature_df = feature_df.join(df_season,\"session_id\")\n",
    "\n",
    "required_columns = [\n",
    "    \"session_id\", \"customer_id\",\n",
    "    \"num_cat_highvalue\", \"num_cat_midvalue\", \"num_cat_lowvalue\",\n",
    "    \"is_promotion\",\n",
    "    \"season\", \"gender\", \"age\", \"device_type\", \"home_location\", \"first_join_year\",\n",
    "    \"purchase\"  \n",
    "]\n",
    "\n",
    "for column in required_columns:\n",
    "    if column not in feature_df.columns:\n",
    "        feature_df = feature_df.withColumn(column, F.lit(None))\n",
    "\n",
    "default_values = {\n",
    "    \"gender\": \"Unknown\", \"age\": -1, \"device_type\": \"Unknown\",\n",
    "    \"home_location\": \"Unknown\", \"first_join_year\": -1\n",
    "}\n",
    "feature_df = feature_df.na.fill(default_values)"
   ]
  },
  {
   "cell_type": "markdown",
   "metadata": {},
   "source": [
    "### 1.3 Exploring the Data <a class=\"anchor\" name=\"1.3\"></a>\n",
    "**1.3.1 With the feature_df, write code to show the basic statistics: a) For each numeric column, show count, mean, stddev, min, max, 25 percentile, 50 percentile, 75 percentile; b)For each non-numeric column, display the top-5 values and the corresponding counts; c) For each boolean column, display the value and count.**"
   ]
  },
  {
   "cell_type": "code",
   "execution_count": 9,
   "metadata": {},
   "outputs": [
    {
     "name": "stdout",
     "output_type": "stream",
     "text": [
      "Percentiles for is_promotion: 25% = 0.0, 50% (median) = 0.0, 75% = 1.0\n",
      "Percentiles for age: 25% = 23.0, 50% (median) = 27.0, 75% = 31.0\n",
      "Percentiles for first_join_year: 25% = 2017.0, 50% (median) = 2018.0, 75% = 2020.0\n",
      "Percentiles for purchase: 25% = 0.0, 50% (median) = 1.0, 75% = 1.0\n",
      "+-------+-------------------+------------------+-----------------+------------------+\n",
      "|summary|       is_promotion|               age|  first_join_year|          purchase|\n",
      "+-------+-------------------+------------------+-----------------+------------------+\n",
      "|  count|             852582|            852582|           852582|            852582|\n",
      "|   mean|0.38299541862249026|27.715895949011355|2018.674827758503|0.6190747634831606|\n",
      "| stddev|0.48611748076646666| 7.283218736839399|1.675915662285815|0.4856145357155806|\n",
      "|    min|                  0|                 8|             2016|                 0|\n",
      "|    max|                  1|                69|             2022|                 1|\n",
      "+-------+-------------------+------------------+-----------------+------------------+\n",
      "\n",
      "+--------------------+-----+\n",
      "|          session_id|count|\n",
      "+--------------------+-----+\n",
      "|00008e68-a4d4-4b5...|    1|\n",
      "|00005746-17ec-449...|    1|\n",
      "|0000a729-3de3-461...|    1|\n",
      "|000128d0-c51c-411...|    1|\n",
      "|000593e4-535e-43f...|    1|\n",
      "+--------------------+-----+\n",
      "only showing top 5 rows\n",
      "\n",
      "+-----------+-----+\n",
      "|customer_id|count|\n",
      "+-----------+-----+\n",
      "|      43202|  550|\n",
      "|      29496|  505|\n",
      "|      82237|  503|\n",
      "|      10167|  473|\n",
      "|      69740|  458|\n",
      "+-----------+-----+\n",
      "only showing top 5 rows\n",
      "\n",
      "+------+-----+\n",
      "|     #|count|\n",
      "+------+-----+\n",
      "|301145|    1|\n",
      "|179186|    1|\n",
      "|193490|    1|\n",
      "|285026|    1|\n",
      "| 55704|    1|\n",
      "+------+-----+\n",
      "only showing top 5 rows\n",
      "\n",
      "+------+------+\n",
      "|gender| count|\n",
      "+------+------+\n",
      "|     F|543509|\n",
      "|     M|309073|\n",
      "+------+------+\n",
      "\n",
      "+-----------+------+\n",
      "|device_type| count|\n",
      "+-----------+------+\n",
      "|    Android|656809|\n",
      "|        iOS|195773|\n",
      "+-----------+------+\n",
      "\n",
      "+-------------+------+\n",
      "|home_location| count|\n",
      "+-------------+------+\n",
      "| Jakarta Raya|156698|\n",
      "|   Jawa Barat|101244|\n",
      "|  Jawa Tengah| 95240|\n",
      "|   Jawa Timur| 81106|\n",
      "|   Yogyakarta| 66444|\n",
      "+-------------+------+\n",
      "only showing top 5 rows\n",
      "\n",
      "+------+------+\n",
      "|season| count|\n",
      "+------+------+\n",
      "|Summer|241157|\n",
      "|Winter|233721|\n",
      "|Spring|209183|\n",
      "|Autumn|168521|\n",
      "+------+------+\n",
      "\n"
     ]
    }
   ],
   "source": [
    "from pyspark.sql.types import IntegerType, FloatType, StringType, BooleanType\n",
    "\n",
    "numeric_cols = [field.name for field in feature_df.schema.fields if isinstance(field.dataType, (IntegerType, FloatType))]\n",
    "\n",
    "numeric_stats = feature_df.describe(numeric_cols)\n",
    "\n",
    "for col_name in numeric_cols:\n",
    "    percentiles = feature_df.approxQuantile(col_name, [0.25, 0.5, 0.75], 0.05)  # 0.05 is the relative error\n",
    "    print(f\"Percentiles for {col_name}: 25% = {percentiles[0]}, 50% (median) = {percentiles[1]}, 75% = {percentiles[2]}\")\n",
    "\n",
    "numeric_stats.show()\n",
    "\n",
    "non_numeric_cols = [field.name for field in feature_df.schema.fields if isinstance(field.dataType, StringType)]\n",
    "\n",
    "for col_name in non_numeric_cols:\n",
    "    feature_df.groupBy(col_name).count().orderBy(\"count\", ascending=False).show(5)\n",
    "\n",
    "boolean_cols = [field.name for field in feature_df.schema.fields if isinstance(field.dataType, BooleanType)]\n",
    "\n",
    "for col_name in boolean_cols:\n",
    "    feature_df.groupBy(col_name).count().show()\n"
   ]
  },
  {
   "cell_type": "markdown",
   "metadata": {},
   "source": [
    "**1.3.2 Explore the dataframe and write code to present one plot  worthy of presentation to the company, describe your plot and discuss the findings from the plot.**\n",
    "\n",
    "- The plot can be based on the created feature_df.\n",
    "- Hint: You can use the basic plots (e.g., histograms, line charts, scatter plots) for the relationship between a column and the label; or more advanced plots like correlation plots. If your data is too large for the plotting, consider using sampling before plotting.\n",
    "- 150 words max for description and discussion of the plotted results\n",
    "- Feel free to use any plotting libraries: matplotlib, seabon, plotly, etc.\n",
    "- Please only use the provided data for visualisation\n",
    "\n"
   ]
  },
  {
   "cell_type": "code",
   "execution_count": 10,
   "metadata": {
    "scrolled": true
   },
   "outputs": [
    {
     "data": {
      "image/png": "[encoded data removed]",
      "text/plain": [
       "<Figure size 1000x600 with 1 Axes>"
      ]
     },
     "metadata": {},
     "output_type": "display_data"
    }
   ],
   "source": [
    "import matplotlib.pyplot as plt\n",
    "import seaborn as sns\n",
    "\n",
    "sampled_data = feature_df.sample(fraction=0.1, withReplacement=False)  \n",
    "\n",
    "sampled_data = sampled_data.withColumn(\"age\", sampled_data[\"age\"].cast(\"integer\"))\n",
    "\n",
    "plot_data = sampled_data.select(\"age\", \"purchase\").toPandas()\n",
    "\n",
    "# Plot\n",
    "plt.figure(figsize=(10, 6))\n",
    "sns.histplot(data=plot_data, x=\"age\", hue=\"purchase\", element=\"step\", stat=\"density\", common_norm=False)\n",
    "plt.title('Age Distribution by Purchase Success')\n",
    "plt.xlabel('Age')\n",
    "plt.ylabel('Density')\n",
    "plt.legend(title='Purchase', labels=['No', 'Yes'])\n",
    "plt.grid(True)\n",
    "plt.show()\n"
   ]
  },
  {
   "cell_type": "markdown",
   "metadata": {},
   "source": [
    "There is a significant concentration of activity in the younger age groups, particularly those between 20 to 30 years old, where the number of transactions, both successful and unsuccessful, is the highest. This suggests that younger consumers are the most active on the platform. But notably, the younger demographics (below 30) have a slightly higher ratio of success. The data indicates that marketing efforts might be most effectively placed on younger users, given their higher engagement and success rates. However, for older age groups, there might be an opportunity to investigate why their purchase success rate isn't higher and whether there are barriers that could be addressed to improve these rates."
   ]
  },
  {
   "cell_type": "markdown",
   "metadata": {},
   "source": [
    "## Part 2. Feature extraction and ML training <a class=\"anchor\" name=\"part-2\"></a>\n",
    "In this section, you will need to use PySpark DataFrame functions and ML packages for data preparation, model building, and evaluation. Other ML packages, such as scikit-learn, would receive zero marks. Excessive usage of Spark SQL is discouraged."
   ]
  },
  {
   "cell_type": "markdown",
   "metadata": {},
   "source": [
    "### 2.1 Preparing Spark ML Transformers/Estimators for features, labels, and models  <a class=\"anchor\" name=\"2.2\"></a>\n",
    "\n",
    "**2.1.1 Write code to prepare feature columns.** \n",
    "\n",
    "**(i) Discuss reasons for removing, selecting and adding these features for model building.**"
   ]
  },
  {
   "cell_type": "markdown",
   "metadata": {},
   "source": [
    "In preparing data for machine learning models, it is important to carefully select features that enhance the model's predictive power while eliminating those that do not contribute meaningfully. Specifically identifiers such as customer_id, session_id, first_name, last_name, username, and email are removed because they are unique to each individual transaction and do not aid in generalization. Similarly, specific hardware details like device_id and device_version are considered less predictive compared to generalized categories such as device_type.\n",
    "\n",
    "To improve the model's effectiveness, new features are introduced. Age can be categorized into groups such as young, adult, and senior to better capture the purchasing behaviors at different life stages, potentially revealing trends that affect consumer behavior. Additionally, incorporating a feature like season is essential because buying patterns often shift with the seasons, influenced by factors like holidays and weather conditions.\n",
    "\n",
    "The rationale behind these choices is to prevent the model from learning from noise and to ensure it can generalize well on new/unseen data. Selected features like age, device type, and season are known to influence consumer behavior significantly, which can be leveraged to predict purchasing patterns effectively. By binning ages into specific groups, the model might better recognize and adapt to the nuances of demographic-specific purchasing behaviors, enhancing its overall accuracy and reliability."
   ]
  },
  {
   "cell_type": "markdown",
   "metadata": {},
   "source": [
    "**(ii) Display the counts of NULL values in each feature columns. Drop rows of the feature_df that contains NULL values.**"
   ]
  },
  {
   "cell_type": "code",
   "execution_count": 25,
   "metadata": {},
   "outputs": [
    {
     "name": "stdout",
     "output_type": "stream",
     "text": [
      "+----------+-----------+-----------------+----------------+----------------+------------+---+------+---+-----------+-------------+---------------+--------+------+\n",
      "|session_id|customer_id|num_cat_highvalue|num_cat_lowvalue|num_cat_midvalue|is_promotion|  #|gender|age|device_type|home_location|first_join_year|purchase|season|\n",
      "+----------+-----------+-----------------+----------------+----------------+------------+---+------+---+-----------+-------------+---------------+--------+------+\n",
      "|         0|          0|                0|               0|               0|           0|  0|     0|  0|          0|            0|              0|       0|     0|\n",
      "+----------+-----------+-----------------+----------------+----------------+------------+---+------+---+-----------+-------------+---------------+--------+------+\n",
      "\n",
      "+-------+--------------------+------------------+------------------+-----------------+------------------+-------------------+------------------+------+------------------+-----------+-------------+------------------+------------------+------+\n",
      "|summary|          session_id|       customer_id| num_cat_highvalue| num_cat_lowvalue|  num_cat_midvalue|       is_promotion|                 #|gender|               age|device_type|home_location|   first_join_year|          purchase|season|\n",
      "+-------+--------------------+------------------+------------------+-----------------+------------------+-------------------+------------------+------+------------------+-----------+-------------+------------------+------------------+------+\n",
      "|  count|              852582|            852582|            852582|           852582|            852582|             852582|            852582|852582|            852582|     852582|       852582|            852582|            852582|852582|\n",
      "|   mean|                NULL|49839.197542289185|3.6051054326739247|7.536056355869582|3.4767916751702477|0.38299541862249026| 426291.5091064554|  NULL|27.718557276602134|       NULL|         NULL| 2018.674827758503|0.6190747634831606|  NULL|\n",
      "| stddev|                NULL| 28999.35799251909|2.3019669452150606|9.364566759935938| 4.517714508936986|0.48611748076646744|246119.38364171152|  NULL| 7.282646225768749|       NULL|         NULL|1.6759156622858058| 0.485614535715579|  NULL|\n",
      "|    min|00001f29-3ede-444...|               100|                 2|                1|                 0|                  0|                 1|     F|                 8|    Android|         Aceh|              2016|                 0|Autumn|\n",
      "|    max|fffffaf6-55ee-428...|             99999|                54|              512|               157|                  1|             99999|     M|                69|        iOS|   Yogyakarta|              2022|                 1|Winter|\n",
      "+-------+--------------------+------------------+------------------+-----------------+------------------+-------------------+------------------+------+------------------+-----------+-------------+------------------+------------------+------+\n",
      "\n"
     ]
    }
   ],
   "source": [
    "from pyspark.sql.functions import count, when, isnull\n",
    "from pyspark.sql.functions import when, col\n",
    "\n",
    "feature_df_dropped = feature_df.drop(\"customer_id\", \"session_id\", \"first_name\", \"last_name\", \"username\", \"email\", \"device_id\", \"device_version\")\n",
    "\n",
    "feature_df_add = feature_df_dropped.withColumn(\"age_group\", \n",
    "                                   when(col(\"age\") < 25, \"young\")\n",
    "                                   .when((col(\"age\") >= 25) & (col(\"age\") < 60), \"adult\")\n",
    "                                   .otherwise(\"senior\"))\n",
    "\n",
    "null_counts = feature_df.select([count(when(isnull(c), c)).alias(c) for c in feature_df.columns])\n",
    "null_counts.show()\n",
    "\n",
    "feature_df = feature_df.na.drop()\n",
    "\n",
    "feature_df.describe().show()"
   ]
  },
  {
   "cell_type": "markdown",
   "metadata": {},
   "source": [
    "**2.1.2 Write code to create Transformers/Estimators for transforming/assembling the columns you selected above, and create ML model Estimators for Random Forest (RF) and Gradient-boosted tree (GBT) model.\n",
    "Please DO NOT fit/transform the data yet**"
   ]
  },
  {
   "cell_type": "code",
   "execution_count": 12,
   "metadata": {},
   "outputs": [],
   "source": [
    "from pyspark.ml.feature import StringIndexer, OneHotEncoder, VectorAssembler\n",
    "from pyspark.ml import Pipeline\n",
    "from pyspark.ml.classification import RandomForestClassifier, GBTClassifier\n",
    "\n",
    "categoricalCols = ['gender', 'device_type', 'home_location', 'age', 'season']\n",
    "indexOutputCols = [x + \"Index\" for x in categoricalCols]\n",
    "oheOutputCols = [x + \"OHE\" for x in categoricalCols]\n",
    "\n",
    "stringIndexer = StringIndexer(inputCols=categoricalCols, outputCols=indexOutputCols)\n",
    "\n",
    "oneHotEncoder = OneHotEncoder(inputCols=indexOutputCols, outputCols=oheOutputCols)\n",
    "\n",
    "assemblerInputs = oheOutputCols + ['num_cat_highvalue', 'num_cat_midvalue', 'num_cat_lowvalue', 'is_promotion', 'first_join_year']\n",
    "vectorAssembler = VectorAssembler(inputCols=assemblerInputs, outputCol=\"features\")\n",
    "\n",
    "preprocessingPipeline = Pipeline(stages=[stringIndexer, oneHotEncoder, vectorAssembler])\n",
    "\n",
    "rf = RandomForestClassifier(featuresCol='features', labelCol='purchase', numTrees=10)\n",
    "\n",
    "gbt = GBTClassifier(featuresCol='features', labelCol='purchase', maxIter=10)\n"
   ]
  },
  {
   "cell_type": "markdown",
   "metadata": {},
   "source": [
    "**2.1.3. Write code to include the above Transformers/Estimators into two pipelines.\n",
    "Please DO NOT fit/transform the data yet**"
   ]
  },
  {
   "cell_type": "code",
   "execution_count": 13,
   "metadata": {},
   "outputs": [],
   "source": [
    "from pyspark.ml import Pipeline\n",
    "\n",
    "rf_pipeline = Pipeline(stages=[\n",
    "    stringIndexer,  \n",
    "    oneHotEncoder,  \n",
    "    vectorAssembler,  \n",
    "    rf  \n",
    "])\n",
    "\n",
    "# Pipeline for Gradient-boosted Tree Model\n",
    "gbt_pipeline = Pipeline(stages=[\n",
    "    stringIndexer, \n",
    "    oneHotEncoder, \n",
    "    vectorAssembler,  \n",
    "    gbt  \n",
    "])\n"
   ]
  },
  {
   "cell_type": "markdown",
   "metadata": {},
   "source": [
    "### 2.3 Preparing the training data and testing data  \n",
    "Write code to split the data for training and testing purposes. \n",
    "You can perform a train/test split (with ratio of 0.8:0.2)."
   ]
  },
  {
   "cell_type": "code",
   "execution_count": 14,
   "metadata": {},
   "outputs": [
    {
     "name": "stdout",
     "output_type": "stream",
     "text": [
      "Training Dataset Count: 681579\n",
      "Testing Dataset Count: 171003\n"
     ]
    }
   ],
   "source": [
    "train_df, test_df = feature_df.randomSplit([0.8, 0.2]) \n",
    "\n",
    "print(\"Training Dataset Count: \" + str(train_df.count()))\n",
    "print(\"Testing Dataset Count: \" + str(test_df.count()))"
   ]
  },
  {
   "cell_type": "markdown",
   "metadata": {},
   "source": [
    "### 2.4 Training and evaluating models  \n",
    "2.4.1 Write code to use the corresponding ML Pipelines to train the models on the training data from 2.2. And then use the trained models to predict the testing data from 2.2"
   ]
  },
  {
   "cell_type": "code",
   "execution_count": 15,
   "metadata": {},
   "outputs": [
    {
     "name": "stdout",
     "output_type": "stream",
     "text": [
      "+--------------------+--------+----------+--------------------+\n",
      "|            features|purchase|prediction|         probability|\n",
      "+--------------------+--------+----------+--------------------+\n",
      "|(99,[1,8,41,92,94...|       1|       1.0|[0.27120657983208...|\n",
      "|(99,[0,1,4,37,92,...|       1|       1.0|[0.32276940479472...|\n",
      "|(99,[0,1,3,55,91,...|       1|       1.0|[0.22355576699867...|\n",
      "|(99,[0,13,52,94,9...|       1|       1.0|[0.22355576699867...|\n",
      "|(99,[2,35,92,94,9...|       1|       1.0|[0.27120657983208...|\n",
      "+--------------------+--------+----------+--------------------+\n",
      "only showing top 5 rows\n",
      "\n",
      "+--------------------+--------+----------+--------------------+\n",
      "|            features|purchase|prediction|         probability|\n",
      "+--------------------+--------+----------+--------------------+\n",
      "|(99,[1,8,41,92,94...|       1|       1.0|[0.30496270295996...|\n",
      "|(99,[0,1,4,37,92,...|       1|       1.0|[0.06227080143914...|\n",
      "|(99,[0,1,3,55,91,...|       1|       1.0|[0.10199593821538...|\n",
      "|(99,[0,13,52,94,9...|       1|       1.0|[0.14203088526386...|\n",
      "|(99,[2,35,92,94,9...|       1|       1.0|[0.25797543029013...|\n",
      "+--------------------+--------+----------+--------------------+\n",
      "only showing top 5 rows\n",
      "\n"
     ]
    }
   ],
   "source": [
    "rf_model = rf_pipeline.fit(train_df)\n",
    "\n",
    "gbt_model = gbt_pipeline.fit(train_df)\n",
    "\n",
    "rf_predictions = rf_model.transform(test_df)\n",
    "\n",
    "gbt_predictions = gbt_model.transform(test_df)\n",
    "\n",
    "rf_predictions.select(\"features\", \"purchase\", \"prediction\", \"probability\").show(5)\n",
    "\n",
    "gbt_predictions.select(\"features\", \"purchase\", \"prediction\", \"probability\").show(5)\n"
   ]
  },
  {
   "cell_type": "markdown",
   "metadata": {},
   "source": [
    "2.4.2 To measure classification performance, write code to display the count of TP/TN/FP/FN on the testing set for each model (i.e., RF and GBT). Also compute the AUC, accuracy, recall, and precision for each model testing result using pyspark MLlib/ML APIs.\n",
    "- Draw a ROC plot.\n",
    "- Discuss which one is the better model(no word limit, please keep it concise)"
   ]
  },
  {
   "cell_type": "code",
   "execution_count": 16,
   "metadata": {},
   "outputs": [
    {
     "name": "stdout",
     "output_type": "stream",
     "text": [
      "Random Forest: TP=100477, TN=32635, FP=32437, FN=5454\n",
      "Gradient-boosted Tree: TP=105228, TN=32241, FP=32831, FN=703\n",
      "RF AUC: 0.8249385331249474\n",
      "GBT AUC: 0.8634514927110963\n",
      "RF Accuracy: 0.7784190920627123, Precision: 0.856809052482344, Recall: 0.5015213916892058\n",
      "GBT Accuracy: 0.8038981772249609, Precision: 0.9786607576493443, Recall: 0.4954665601180231\n"
     ]
    },
    {
     "data": {
      "image/png": "[encoded data removed]",
      "text/plain": [
       "<Figure size 1000x800 with 1 Axes>"
      ]
     },
     "metadata": {},
     "output_type": "display_data"
    },
    {
     "data": {
      "image/png": "[encoded data removed]",
      "text/plain": [
       "<Figure size 1000x800 with 1 Axes>"
      ]
     },
     "metadata": {},
     "output_type": "display_data"
    }
   ],
   "source": [
    "from pyspark.sql.functions import col\n",
    "from pyspark.ml.evaluation import BinaryClassificationEvaluator, MulticlassClassificationEvaluator\n",
    "from pyspark.mllib.evaluation import BinaryClassificationMetrics\n",
    "import matplotlib.pyplot as plt\n",
    "\n",
    "\n",
    "def get_confusion_matrix_elements(predictions):\n",
    "    TP = predictions.filter((col('prediction') == 1) & (col('purchase') == 1)).count()\n",
    "    TN = predictions.filter((col('prediction') == 0) & (col('purchase') == 0)).count()\n",
    "    FP = predictions.filter((col('prediction') == 1) & (col('purchase') == 0)).count()\n",
    "    FN = predictions.filter((col('prediction') == 0) & (col('purchase') == 1)).count()\n",
    "    return TP, TN, FP, FN\n",
    "\n",
    "rf_TP, rf_TN, rf_FP, rf_FN = get_confusion_matrix_elements(rf_predictions)\n",
    "gbt_TP, gbt_TN, gbt_FP, gbt_FN = get_confusion_matrix_elements(gbt_predictions)\n",
    "\n",
    "print(\"Random Forest: TP={}, TN={}, FP={}, FN={}\".format(rf_TP, rf_TN, rf_FP, rf_FN))\n",
    "print(\"Gradient-boosted Tree: TP={}, TN={}, FP={}, FN={}\".format(gbt_TP, gbt_TN, gbt_FP, gbt_FN))\n",
    "\n",
    "binary_evaluator = BinaryClassificationEvaluator(labelCol=\"purchase\", rawPredictionCol=\"probability\", metricName=\"areaUnderROC\")\n",
    "\n",
    "multi_evaluator = MulticlassClassificationEvaluator(labelCol=\"purchase\", predictionCol=\"prediction\")\n",
    "accuracy_rf = multi_evaluator.evaluate(rf_predictions, {multi_evaluator.metricName: \"accuracy\"})\n",
    "precision_rf = multi_evaluator.evaluate(rf_predictions, {multi_evaluator.metricName: \"precisionByLabel\"})\n",
    "recall_rf = multi_evaluator.evaluate(rf_predictions, {multi_evaluator.metricName: \"recallByLabel\"})\n",
    "\n",
    "accuracy_gbt = multi_evaluator.evaluate(gbt_predictions, {multi_evaluator.metricName: \"accuracy\"})\n",
    "precision_gbt = multi_evaluator.evaluate(gbt_predictions, {multi_evaluator.metricName: \"precisionByLabel\"})\n",
    "recall_gbt = multi_evaluator.evaluate(gbt_predictions, {multi_evaluator.metricName: \"recallByLabel\"})\n",
    "\n",
    "print(\"RF AUC:\", binary_evaluator.evaluate(rf_predictions))\n",
    "print(\"GBT AUC:\", binary_evaluator.evaluate(gbt_predictions))\n",
    "\n",
    "print(\"RF Accuracy: {}, Precision: {}, Recall: {}\".format(accuracy_rf, precision_rf, recall_rf))\n",
    "print(\"GBT Accuracy: {}, Precision: {}, Recall: {}\".format(accuracy_gbt, precision_gbt, recall_gbt))\n",
    "\n",
    "def plot_roc_curve(predictions, model_name):\n",
    "    pred_pd = predictions.select(\"probability\", \"purchase\").toPandas()\n",
    "    pred_pd['score'] = pred_pd['probability'].apply(lambda x: x[1])\n",
    "\n",
    "    pred_sorted = pred_pd.sort_values('score', ascending=False)\n",
    "    \n",
    "    pred_sorted['cum_positive'] = pred_sorted['purchase'].cumsum()\n",
    "    pred_sorted['cum_negative'] = (~pred_sorted['purchase'].astype(bool)).cumsum()\n",
    "    \n",
    "    total_positive = pred_sorted['purchase'].sum()\n",
    "    total_negative = len(pred_sorted) - total_positive\n",
    "    \n",
    "    pred_sorted['tpr'] = pred_sorted['cum_positive'] / total_positive\n",
    "    pred_sorted['fpr'] = pred_sorted['cum_negative'] / total_negative\n",
    "    \n",
    "    plt.figure(figsize=(10, 8))\n",
    "    plt.plot(pred_sorted['fpr'], pred_sorted['tpr'], label=f'{model_name} AUC')\n",
    "    plt.xlabel('False Positive Rate')\n",
    "    plt.ylabel('True Positive Rate')\n",
    "    plt.title('ROC Curve - ' + model_name)\n",
    "    plt.legend(loc='lower right')\n",
    "    plt.grid(True)\n",
    "    plt.show()\n",
    "\n",
    "plot_roc_curve(rf_predictions, \"Random Forest\")\n",
    "plot_roc_curve(gbt_predictions, \"Gradient-boosted Trees\")\n"
   ]
  },
  {
   "cell_type": "markdown",
   "metadata": {},
   "source": [
    "2.4.3 Save the better model, we will need this for Part B of assignment 2."
   ]
  },
  {
   "cell_type": "code",
   "execution_count": null,
   "metadata": {},
   "outputs": [],
   "source": [
    "gbt_model.save(\"Assignment_2_model\")"
   ]
  },
  {
   "cell_type": "markdown",
   "metadata": {},
   "source": [
    "### Part 3: Data Ethics, Privacy, and Security <a class=\"anchor\" name=\"part-4\"></a>  \n",
    "Please see the specification for this task and add markdown cells(word limit: 500)."
   ]
  },
  {
   "cell_type": "markdown",
   "metadata": {},
   "source": [
    "In today's data-driven world, the concepts of data ethics, privacy, and security are important.\n",
    "\n",
    "#### Data Ethics: \n",
    "Data ethics refers to the principles and standards applies on the responsible use of data, it emphasize practices that respect personal data rights and integrity. Ethical big data processing balance technological advancements with moral responsibilities, this ensures that data use benefits society without violating on individual rights. An example is the Cambridge Analytica scandal, it highlights the negative aspects when data ethics are compromised, contrasted with initiatives like GDPR, which strive to uphold data ethics positively by enforcing strict data handling standards.\n",
    "\n",
    "#### Data Privacy:\n",
    "Privacy in big data involves managing how personal data is utilized, ensuring individuals' rights to their data are respected. This includes protecting user against unauthorized data access and ensuring transparency on how data is used. The General Data Protection Regulation (GDPR) exemplifies regulatory efforts to enforce data privacy, mandating clear consent from data subjects and granting them extensive rights over their data. Enhancements in technologies such as differential privacy or encrypted data analysis represent advancements in maintaining data privacy while utilizing big data.\n",
    "\n",
    "#### Data Security:\n",
    "Security involves protecting data from unauthorized access and breaches, which is increasingly challenging as the volume and variety of data expand in big data scenarios. Effective big data security strategies encompass encryption, robust access controls, and comprehensive intrusion detection systems to safeguard data throughout its lifecycle—from collection to storage to analysis. This is critical as any security lapse can lead to significant financial and reputational damage.\n",
    "\n",
    "Each of these elements—ethics, privacy, and security—plays a vital role in ensuring that big data technologies are implemented in a manner that respects individual rights and promotes trust in data practices. As big data continues to evolve, the ongoing development of legal frameworks, ethical guidelines, and advanced security measures will be essential to address the complexities of modern data use and to protect against the potential abuses that could undermine public confidence in data-driven technologies."
   ]
  },
  {
   "cell_type": "markdown",
   "metadata": {},
   "source": []
  },
  {
   "cell_type": "markdown",
   "metadata": {},
   "source": [
    "## References:\n",
    "Please add your references below:"
   ]
  },
  {
   "cell_type": "markdown",
   "metadata": {},
   "source": [
    "Yang, L. (2024). Ethics and security. Monash Information Technology."
   ]
  }
 ],
 "metadata": {
  "kernelspec": {
   "display_name": "Python 3 (ipykernel)",
   "language": "python",
   "name": "python3"
  },
  "language_info": {
   "codemirror_mode": {
    "name": "ipython",
    "version": 3
   },
   "file_extension": ".py",
   "mimetype": "text/x-python",
   "name": "python",
   "nbconvert_exporter": "python",
   "pygments_lexer": "ipython3",
   "version": "3.10.13"
  }
 },
 "nbformat": 4,
 "nbformat_minor": 4
}
